{
 "cells": [
  {
   "cell_type": "markdown",
   "metadata": {},
   "source": [
    "# Ansambelõpe (*ensemble learning*)\n",
    "\n",
    "\n",
    "## Sisukord\n",
    "\n",
    "* [Juhuslik mets](#rnd_forest)\n",
    "* [Ülesanne 8.1](#8_1)\n",
    "* [Ansambliõppe teooria](#ensemble)\n",
    "* [Bagging](#bagging)\n",
    "* [AdaBoost](#AdaBoost)\n",
    "* [Ülesanne 8.2](#8_2)\n",
    "\n",
    "Põhineb S.Raschka *Python Machine Learnig* raamatu [peatükil 7](https://github.com/rasbt/python-machine-learning-book/blob/master/code/ch07) ([*MIT litsents*](https://github.com/rasbt/python-machine-learning-book/blob/master/LICENSE.txt))."
   ]
  },
  {
   "cell_type": "markdown",
   "metadata": {},
   "source": [
    "<a id='rnd_forest'></a>\n",
    "## Juhuslik mets (*random forest*)\n",
    "\n",
    "Moodul [sklearn.ensemble](https://scikit-learn.org/stable/modules/ensemble.html#ensemble) pakub erinevaid ansambelõppe meetodeid.\n",
    "\n",
    "[RandomForestClassifier](https://scikit-learn.org/stable/modules/generated/sklearn.ensemble.RandomForestClassifier.html)\n",
    "tekitab otsustuspuude metsa, kus otsustuspuude erinevuse saavutamiseks treenitakse neid erinevate andmevalimitega. Ansambelõppega seotud argumendid on:\n",
    "\n",
    "* `n_estimators`: Puude arv metsas. Vaikimisi 100.\n",
    "* `bootstrap`: True / False. Kas kasutada treeninguks alamandmestikku või kõiki andmeid? Vaikimisi True (alamandmestik).\n"
   ]
  },
  {
   "cell_type": "code",
   "execution_count": 151,
   "metadata": {},
   "outputs": [
    {
     "name": "stdout",
     "output_type": "stream",
     "text": [
      "Attr tähtsused: [0.3501896  0.32934802 0.1507339  0.16972848]\n",
      "Täpsus: 0.8666666666666667\n"
     ]
    }
   ],
   "source": [
    "from sklearn.datasets import load_wine\n",
    "from sklearn.ensemble import RandomForestClassifier, BaggingClassifier, AdaBoostClassifier\n",
    "from sklearn.preprocessing import StandardScaler\n",
    "from sklearn.model_selection import train_test_split\n",
    "from sklearn.pipeline import Pipeline\n",
    "\n",
    "wine_bunch = load_wine()\n",
    "\n",
    "# Lihtsustuseks kasutame ainult kahte klassi: 1 ja 2\n",
    "in_classes_12 = (wine_bunch.target != 0) \n",
    "X = wine_bunch.data[in_classes_12][:, :4]\n",
    "y = wine_bunch.target[in_classes_12]\n",
    "\n",
    "X_train, X_test, y_train, y_test = train_test_split(X, y)\n",
    "\n",
    "clf_pipe = Pipeline([('sc1', StandardScaler()),\n",
    "                     ('rf', RandomForestClassifier(n_estimators=10))])\n",
    "\n",
    "clf_pipe.fit(X_train, y_train)\n",
    "print(\"Attr tähtsused:\", clf_pipe.named_steps[\"rf\"].feature_importances_)\n",
    "print(\"Täpsus:\", clf_pipe.score(X_test, y_test))"
   ]
  },
  {
   "cell_type": "markdown",
   "metadata": {},
   "source": [
    "<a id='8_1'></a>\n",
    "## Ülesanne 8.1\n",
    "\n",
    "Laadige alla ülesandes 4.1 vaadeldud [loomaaia andmestik](https://archive.ics.uci.edu/ml/datasets/zoo). Võtke jälle veerg predator ennustatavaks klassiks Y. Looge andmetabel X, millest on eemaldatud klassile vastav veerg predator ja mittearvulised veerud animal_name ja type.\n",
    "Normaliseerige andmed klassi [MinMaxScaler](https://scikit-learn.org/stable/modules/generated/sklearn.preprocessing.MinMaxScaler.html) abil ja jagage treening- ja testandmeteks. Treenige [RandomForestClassifier](https://scikit-learn.org/stable/modules/generated/sklearn.ensemble.RandomForestClassifier.html) ansambel-klassifikaator 100 puu jaoks ja leida selle täpsus."
   ]
  },
  {
   "cell_type": "code",
   "execution_count": 184,
   "metadata": {},
   "outputs": [
    {
     "name": "stdout",
     "output_type": "stream",
     "text": [
      "          hair  feathers  eggs  milk  airborne  aquatic  toothed  backbone  \\\n",
      "aardvark     1         0     0     1         0        0        1         1   \n",
      "antelope     1         0     0     1         0        0        1         1   \n",
      "bass         0         0     1     0         0        1        1         1   \n",
      "bear         1         0     0     1         0        0        1         1   \n",
      "boar         1         0     0     1         0        0        1         1   \n",
      "...        ...       ...   ...   ...       ...      ...      ...       ...   \n",
      "wallaby      1         0     0     1         0        0        1         1   \n",
      "wasp         1         0     1     0         1        0        0         0   \n",
      "wolf         1         0     0     1         0        0        1         1   \n",
      "worm         0         0     1     0         0        0        0         0   \n",
      "wren         0         1     1     0         1        0        0         1   \n",
      "\n",
      "          breathes  venomous  fins  legs  tail  domestic  catsize  \n",
      "aardvark         1         0     0     4     0         0        1  \n",
      "antelope         1         0     0     4     1         0        1  \n",
      "bass             0         0     1     0     1         0        0  \n",
      "bear             1         0     0     4     0         0        1  \n",
      "boar             1         0     0     4     1         0        1  \n",
      "...            ...       ...   ...   ...   ...       ...      ...  \n",
      "wallaby          1         0     0     2     1         0        1  \n",
      "wasp             1         1     0     6     0         0        0  \n",
      "wolf             1         0     0     4     1         0        1  \n",
      "worm             1         0     0     0     0         0        0  \n",
      "wren             1         0     0     2     1         0        0  \n",
      "\n",
      "[101 rows x 15 columns]\n",
      "Attr tähtsused: [0.02503072 0.01808846 0.04125582 0.02629407 0.11594872 0.19979022\n",
      " 0.06772157 0.02543324 0.02842741 0.01524577 0.06766934 0.11596436\n",
      " 0.05358344 0.10115616 0.09839068]\n",
      "Täpsus: 0.6774193548387096\n"
     ]
    },
    {
     "name": "stderr",
     "output_type": "stream",
     "text": [
      "C:\\Users\\envomp\\Anaconda3\\lib\\site-packages\\sklearn\\ensemble\\forest.py:245: FutureWarning: The default value of n_estimators will change from 10 in version 0.20 to 100 in 0.22.\n",
      "  \"10 in version 0.20 to 100 in 0.22.\", FutureWarning)\n"
     ]
    }
   ],
   "source": [
    "import pandas as pd\n",
    "from sklearn.preprocessing import MinMaxScaler\n",
    "columns = [\"hair\", \"feathers\", \"eggs\", \"milk\", \"airborne\", \"aquatic\", \"predator\", \"toothed\", \"backbone\", \"breathes\", \"venomous\", \"fins\", \"legs\", \"tail\", \"domestic\", \"catsize\", \"type\"]\n",
    "zoo = pd.read_csv(\"zoo.data\", index_col=0, names=columns)\n",
    "y = zoo.predator\n",
    "X = zoo.drop([\"predator\", \"type\"], axis=1)  # animal_name not defined in columns to begin with\n",
    "print(X)\n",
    "\n",
    "X_train, X_test, y_train, y_test = train_test_split(X, y, test_size=0.3, random_state=0)\n",
    "\n",
    "clf_pipe = Pipeline([('sc1', MinMaxScaler()),\n",
    "                     ('rf', RandomForestClassifier())])\n",
    "\n",
    "clf_pipe.fit(X_train, y_train)\n",
    "print(\"Attr tähtsused:\", clf_pipe.named_steps[\"rf\"].feature_importances_)\n",
    "print(\"Täpsus:\", clf_pipe.score(X_test, y_test)) # Täpsus on  65-70% kandis"
   ]
  },
  {
   "cell_type": "markdown",
   "metadata": {},
   "source": [
    "<a id='ensemble'></a>\n",
    "## Ansambelõppe teooria\n",
    "\n",
    "Vaatame lihtsustatud juhtu kui meil on kaks võimalikku klassi ja $n$ klassifikaatorit. Eeldame lihtsustatult, et kõik klassifikaatorid ennustavad klassi 0 tõenäosusega p ja järelikult klassi 1 tõenäosusega 1-p ja klassifikaatorite ennustused ei sõltu üksteisest. Tõenäosusmõõt näitab kui suure tõenäosusega on klassi 0 ennustavate klassifikaatorite arv $x=k$ ja see on tõenäosusteooriast tuntud binoomjaotus.\n",
    "\n",
    "$$ P(x=k) = \\binom{n}{k} p^k (1-p)^{n-k}$$\n",
    "\n",
    " $\\binom{n}{k}$ : $k$ elemendiliste alamhulkade arv $n$ elemendi hulgast. "
   ]
  },
  {
   "cell_type": "code",
   "execution_count": 153,
   "metadata": {},
   "outputs": [
    {
     "data": {
      "text/plain": [
       "0.03456"
      ]
     },
     "execution_count": 153,
     "metadata": {},
     "output_type": "execute_result"
    }
   ],
   "source": [
    "0.6**3 * 0.4**2"
   ]
  },
  {
   "cell_type": "code",
   "execution_count": 154,
   "metadata": {},
   "outputs": [],
   "source": [
    "import numpy as np\n",
    "from scipy.special import comb\n",
    "import math\n",
    "\n",
    "#print(comb(5, 3))\n",
    "\n",
    "# Defineerime tõnäosusmõõdu funktsiooni\n",
    "def p_mass(n, k, p): return comb(n, k) * p**k * (1-p)**(n-k)\n",
    "\n"
   ]
  },
  {
   "cell_type": "code",
   "execution_count": 155,
   "metadata": {},
   "outputs": [
    {
     "data": {
      "image/png": "[encoded data removed]",
      "text/plain": [
       "<Figure size 432x288 with 1 Axes>"
      ]
     },
     "metadata": {
      "needs_background": "light"
     },
     "output_type": "display_data"
    }
   ],
   "source": [
    "# Joonistame tõenäosusmõõdu graafiku juhu jaoks, kui meil on 10 klassifikaatorit st n=100 \n",
    "# ja need ennustavad klassi 0 tõenäosusega 0.6\n",
    "\n",
    "\n",
    "import matplotlib.pyplot as plt\n",
    "%matplotlib inline\n",
    "\n",
    "n = 100\n",
    "p = 0.6\n",
    "# Klassi 0 ennustavate klassifikaatorite arv\n",
    "n_clf = np.arange(0, n+1)\n",
    "probs = [p_mass(n, x, p) for x in n_clf]\n",
    "\n",
    "plt.scatter(n_clf, probs)\n",
    "plt.xlabel(\"k\")\n",
    "plt.ylabel(\"P(x=k)\")\n",
    "plt.show()"
   ]
  },
  {
   "cell_type": "markdown",
   "metadata": {},
   "source": [
    "Kui eeldame, et kõik klassifikaatorid teevad vigase ennustuse tõenäosusega $\\epsilon$ ja nende ennustused ei sõltu üksteisest. Ansambel ennustab teatud klassi kui vähemalt $y$ klassifikaatorit ($y$ on tavaliselt pool klassifikaatorite arvust) ennustavad seda klassi.  Kuidas sõltub ansambli vigase ennustuse tõenäosus klassifikaatori vea tõenäosusest $\\epsilon$?\n",
    "\n",
    "$$ P(x\\geq y) = \\sum_{k=y}^{n} P(x=k)$$\n",
    "\n",
    "Selle saame võttes $P(x=k)$ valemis tõenäosuseks $p$ vea tõenäosuse $\\epsilon$.\n",
    "\n",
    "$$ P(x\\geq y) = \\sum_{k=y}^{n} \\binom{n}{k} \\epsilon^k (1-\\epsilon)^{n-k}$$\n"
   ]
  },
  {
   "cell_type": "code",
   "execution_count": 156,
   "metadata": {},
   "outputs": [
    {
     "data": {
      "image/png": "[encoded data removed]",
      "text/plain": [
       "<Figure size 432x288 with 1 Axes>"
      ]
     },
     "metadata": {
      "needs_background": "light"
     },
     "output_type": "display_data"
    }
   ],
   "source": [
    "# Defineerime vastava funktsiooni\n",
    "\n",
    "def ensemble_error(n, epsilon):\n",
    "    y = math.ceil(n/2) # tavaline ennustuslävi, pooled klassifikaatorid, ümardada üles (ceil)\n",
    "    return sum([p_mass(n, k, epsilon) for k in range(y, n+1)])\n",
    "    \n",
    "\n",
    "#print(ensemble_error(100, 0.5))\n",
    "\n",
    "# Joonistame vastava graafiku\n",
    "error_range = np.arange(0.0, 1.01, 0.01)\n",
    "ens_errors = [ensemble_error(n, e) for e in error_range]\n",
    "\n",
    "plt.plot(error_range, ens_errors, label=\"Ansambli viga\")\n",
    "plt.plot(error_range, error_range, linestyle=\"--\", label=\"Klassifikaatori viga\")\n",
    "plt.xlabel(\"Klassifikaatori viga\")\n",
    "plt.ylabel(\"Klassifikaatori / ansambli viga\")\n",
    "plt.legend(loc='upper left')\n",
    "plt.show()"
   ]
  },
  {
   "cell_type": "markdown",
   "metadata": {},
   "source": [
    "Näeme, et juba juhul kui klassifikaatori viga on 0.4 või väiksem, on ansambelõppe abil võimalik tulemusi radikaalselt parandada. Tasub vaadata, mis juhtub kui klassifikaatorite arvu $n$ ansamblis   suurendada. Muidugi ei pruugi kõik eelnevad eeldused, nagu klassifikaatorite sõltumatus, praktikas kehtida."
   ]
  },
  {
   "cell_type": "markdown",
   "metadata": {},
   "source": [
    "<a id='bagging'></a>\n",
    "## Bagging\n",
    "\n",
    "Ansambelõppe klassifikaator [BaggingClassifier](https://scikit-learn.org/stable/modules/generated/sklearn.ensemble.BaggingClassifier.html) moodulist [sklearn.ensemble](https://scikit-learn.org/stable/modules/ensemble.html#ensemble) treenib etteantud  klassifikaatorit `base_estimator n_estimators` erineva alamvalimiga. Alamvalimid on tüüpiliselt leitud nn tagasipanekuga valiku (*sampling with replacement*) meetodil, mille korral sama algse valimi objekt võib esineda juhuvalimis mitu korda, sest valitud objekt pannakse juhuvalimisse \"tagasi\" ja võib uuesti valituks osutuda. Muud olulised argumendid:\n",
    "* `bootstrap`: kas kasutada juhuvalimite genereerimiseks tagasipanekuga valikut. Vaikimisi True.\n",
    "* `bootstrap_features`: kas valida lisaks objektidele ka alamhulk atribuutidest? Vaikimisi False.\n",
    "* `max_samples`: juhuvalimi suurus võrreldes tervikvalimiga. Vaikimisi 1.0.\n",
    "* `max_features`: juhuvalimi atribuutide arv võrreldes tervikvalimiga. Vaikimisi 1.0."
   ]
  },
  {
   "cell_type": "code",
   "execution_count": 157,
   "metadata": {},
   "outputs": [
    {
     "name": "stdout",
     "output_type": "stream",
     "text": [
      "Täpsus: 0.7419354838709677\n"
     ]
    }
   ],
   "source": [
    "from sklearn.linear_model import Perceptron\n",
    "\n",
    "\n",
    "clf_prp = Perceptron(max_iter=40)\n",
    "clf_pipe_b = Pipeline([('sc1', StandardScaler()),\n",
    "                       ('bc', BaggingClassifier(base_estimator=clf_prp,\n",
    "                                                n_estimators=100,\n",
    "                                                bootstrap_features=True))])\n",
    "\n",
    "clf_pipe_b.fit(X_train, y_train)\n",
    "print(\"Täpsus:\", clf_pipe_b.score(X_test, y_test))"
   ]
  },
  {
   "cell_type": "markdown",
   "metadata": {},
   "source": [
    "<a id='AdaBoost'></a>\n",
    "## AdaBoost\n",
    "\n",
    "[AdaBoostClassifier](https://scikit-learn.org/stable/modules/generated/sklearn.ensemble.AdaBoostClassifier.html) ansambelõppe meetod moodulist [sklearn.ensemble](https://scikit-learn.org/stable/modules/ensemble.html#ensemble) hindab eelmisel treeningraundil valesti klassifitseeritud elemente uuel raundil kaalukamaks. Vaikimisi on õpetatavateks klassifikaatoriteks `base_estimator` otsustuspuu \"kännud\": `DecisionTreeClassifier(max_depth=1)`.\n",
    "\n"
   ]
  },
  {
   "cell_type": "code",
   "execution_count": 158,
   "metadata": {},
   "outputs": [
    {
     "name": "stdout",
     "output_type": "stream",
     "text": [
      "Täpsus: 0.7096774193548387\n"
     ]
    }
   ],
   "source": [
    "clf_pipe_ab = Pipeline([('sc1', StandardScaler()),\n",
    "                       ('ab', AdaBoostClassifier(n_estimators=10))])\n",
    "\n",
    "clf_pipe_ab.fit(X_train, y_train)\n",
    "print(\"Täpsus:\", clf_pipe_ab.score(X_test, y_test))"
   ]
  },
  {
   "cell_type": "markdown",
   "metadata": {},
   "source": [
    "AdaBoosti klassifikaatori hinnang on:\n",
    "$$F_T(x) = \\sum_{t=1}^T f_t(x)$$\n",
    "$T$ on klassifikaatorite arv ansamblis\n",
    "$x$ on objekt (vektor)\n",
    "$t$ on iteratsioon\n",
    "$f_t(x)$ on komponenklassifikaatori koguhinnang\n",
    "$$ f_t(x) = \\alpha_t h(x)$$,\n",
    "kus $\\alpha_t$ on teatud konstant iteratsiooni $t$ jaoks ja $h(x)$ on vastava klassifikaatori ennustus.\n"
   ]
  },
  {
   "cell_type": "markdown",
   "metadata": {},
   "source": [
    "Konstant $\\alpha_t$ ja klassifikaator leitakse iteratsiooni jaoks nii, et minimeerida summaarset treeningviga:\n",
    "\n",
    "$$ E_t = \\sum_i E(F_{t-1} + \\alpha_t h(x_i)) $$\n",
    ", kus $E()$ on teatud veafunktsioon."
   ]
  },
  {
   "cell_type": "markdown",
   "metadata": {},
   "source": [
    "Objekti $i$ kaal iteratsiooni $t$ jaoks on \n",
    "$$ w_{it} = E (F_{t-1}(x_i)) $$"
   ]
  },
  {
   "cell_type": "markdown",
   "metadata": {},
   "source": [
    "<a id='8_2'></a>\n",
    "## Ülesanne 8.2\n",
    "\n",
    "Treenige [BaggingClassifier](https://scikit-learn.org/stable/modules/generated/sklearn.ensemble.BaggingClassifier.html) koos [LogisticRegression](https://scikit-learn.org/stable/modules/linear_model.html#logistic-regression) baasklassifikaatoritega ja [AdaBoostClassifier](https://scikit-learn.org/stable/modules/generated/sklearn.ensemble.AdaBoostClassifier.html) ansambel-klassifikaatorid ülesandes 8.1 vaadeldud andmestiku peal ja leidke nende täpsused.  Võrrelge täpsust omavahel ja ülesande 8.1 tulemusega. Milline ansambelõppe meetod on täpseim?"
   ]
  },
  {
   "cell_type": "code",
   "execution_count": 234,
   "metadata": {},
   "outputs": [
    {
     "name": "stdout",
     "output_type": "stream",
     "text": [
      "Täpsus: 0.6774193548387096\n",
      "Täpsus: 0.7096774193548387\n",
      "Protsendid tulid laias laastus kõik samad. 65% ja 70% vahel. Aga AdaBoostClassifier andis keskmisest paremaid tulemusi.\n"
     ]
    }
   ],
   "source": [
    "from sklearn.linear_model import LogisticRegression\n",
    "\n",
    "regression = LogisticRegression(penalty='l2', max_iter=3000, random_state=0, solver='sag')\n",
    "\n",
    "clf_pipe = Pipeline([\n",
    "                    ('sc1', StandardScaler()),\n",
    "                    ('bgc', BaggingClassifier(base_estimator=regression, n_estimators=100, bootstrap_features=True)),\n",
    "                    ])\n",
    "\n",
    "clf_pipe.fit(X_train, y_train)\n",
    "print(\"Täpsus:\", clf_pipe.score(X_test, y_test)) # Täpsus on  65-70% kandis\n",
    "\n",
    "clf_pipe = Pipeline([\n",
    "                     ('sc1', StandardScaler()),\n",
    "                     ('ab', AdaBoostClassifier(n_estimators=10))\n",
    "                    ])\n",
    "\n",
    "clf_pipe.fit(X_train, y_train)\n",
    "print(\"Täpsus:\", clf_pipe.score(X_test, y_test)) # Täpsus on  70% kandis\n",
    "\n",
    "print(\"Protsendid tulid laias laastus kõik samad. 65% ja 70% vahel. Aga AdaBoostClassifier andis keskmisest paremaid tulemusi.\")"
   ]
  }
 ],
 "metadata": {
  "kernelspec": {
   "display_name": "Python 3",
   "language": "python",
   "name": "python3"
  },
  "language_info": {
   "codemirror_mode": {
    "name": "ipython",
    "version": 3
   },
   "file_extension": ".py",
   "mimetype": "text/x-python",
   "name": "python",
   "nbconvert_exporter": "python",
   "pygments_lexer": "ipython3",
   "version": "3.7.4"
  }
 },
 "nbformat": 4,
 "nbformat_minor": 2
}
