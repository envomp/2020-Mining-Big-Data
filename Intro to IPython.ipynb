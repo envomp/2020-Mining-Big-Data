{
 "cells": [
  {
   "cell_type": "markdown",
   "metadata": {},
   "source": [
    "# Sissejuhatus Jupyteri\n",
    "\n",
    "\n",
    "See märkmik on lühikeseks sissejuhatuseks Jupyteri märkmike juurde.\n",
    "\n",
    "\n",
    "\n",
    "## Üldotstarbeline programmeerimine vs andmeanalüüs ja teaduslik programmeerimine\n",
    "\n",
    "Üldotstarbelise programmi funktsionaalsust käivitatakse palju kordi. Vastasel juhul ei oleks selle arendamine aja- ega kuluefektiivne. Programmeerijat ei huvita konkreetne sisend ja konkreetne väljund: mis konkreetset dokumenti tekstitöötlusprogrammi kasutaja kirjutab, kui palju on pangasüsteemi kasutaja kontol raha jne. Funktsionaalsus on üldine.\n",
    "\n",
    "Andmeanalüüsi korral käivitatakse sama programmijuppi üks või väike arv kordi. Väljund, mis konkreetsets andmete põhjal saadakse võib mõjutada, mida andmeanalüütik soovib järgnevalt teha. Lisaks on mõistlik hoida väljund ja programm, mis selle tekitas, ühes kohas, sest andmeanalüüs võib anda väljundiks sadu tabeleid ja pilte. Kui see on programmikoodist lahus siis tekivad küsimused: Mis on selle väljundi sisu? Kuidas see tulemus saadi? Mis andmete põhjal? Kuidas seda jagada? Verifitseerimine ja korratavus on siin olulised.\n",
    "\n",
    "Samuti on andmeanalüüsis vähem vaja keeruka programmi haldamisega seotud võtteid, nagu funktsioonid, klassid, moodulid, mustrid jne. Seega ei ole vaja professionaalse programmeerija oskuseid vaid baasteadmiseid programmeerimisest. Rõhk on matemaatilis-statistiliste meetodite valdamisel.\n",
    "\n",
    "**Järeldus: andmeanalüüs vajab erinevaid vahendeid kui üldotstarbeline programmeerimine.**"
   ]
  },
  {
   "cell_type": "markdown",
   "metadata": {},
   "source": [
    "## Jupyteri märkmik (notebook)\n",
    "\n",
    "\n",
    "*Jupyteri märkmikud* sisaldavad vormindatud teksti, programmikoodi ja selle väljundit. Seega hoitakse tulemused ja kood koos, on lihtne täiendada märkmikku interaktiivselt uue koodiga vastavalt saadud tulemustele ja lisada kvormindatud tekstina kommentaare.  \n",
    "\n",
    "Väljund võib olla tekst või pilt. Kasutaja sisestab koodi või dokumentatsiooni lahtritesse (*cells*), mis on eri tüüpi: kood, markdown. \n",
    "\n",
    "See on *markdown* lahter.\n",
    "\n",
    "Allpool on koodi lahter.\n"
   ]
  },
  {
   "cell_type": "code",
   "execution_count": 1,
   "metadata": {},
   "outputs": [
    {
     "name": "stdout",
     "output_type": "stream",
     "text": [
      "n \t n-s kahe aste\n",
      "0 \t 1\n",
      "1 \t 2\n",
      "2 \t 4\n",
      "3 \t 8\n",
      "4 \t 16\n",
      "5 \t 32\n",
      "6 \t 64\n",
      "7 \t 128\n",
      "8 \t 256\n",
      "9 \t 512\n",
      "10 \t 1024\n",
      "11 \t 2048\n",
      "12 \t 4096\n",
      "13 \t 8192\n",
      "14 \t 16384\n",
      "15 \t 32768\n",
      "16 \t 65536\n",
      "17 \t 131072\n",
      "18 \t 262144\n",
      "19 \t 524288\n",
      "20 \t 1048576\n",
      "21 \t 2097152\n",
      "22 \t 4194304\n",
      "23 \t 8388608\n",
      "24 \t 16777216\n",
      "25 \t 33554432\n",
      "26 \t 67108864\n",
      "27 \t 134217728\n",
      "28 \t 268435456\n",
      "29 \t 536870912\n",
      "30 \t 1073741824\n",
      "31 \t 2147483648\n",
      "32 \t 4294967296\n",
      "33 \t 8589934592\n",
      "34 \t 17179869184\n",
      "35 \t 34359738368\n",
      "36 \t 68719476736\n",
      "37 \t 137438953472\n",
      "38 \t 274877906944\n",
      "39 \t 549755813888\n",
      "40 \t 1099511627776\n",
      "41 \t 2199023255552\n",
      "42 \t 4398046511104\n",
      "43 \t 8796093022208\n",
      "44 \t 17592186044416\n",
      "45 \t 35184372088832\n",
      "46 \t 70368744177664\n",
      "47 \t 140737488355328\n",
      "48 \t 281474976710656\n",
      "49 \t 562949953421312\n",
      "50 \t 1125899906842624\n",
      "51 \t 2251799813685248\n",
      "52 \t 4503599627370496\n",
      "53 \t 9007199254740992\n",
      "54 \t 18014398509481984\n",
      "55 \t 36028797018963968\n",
      "56 \t 72057594037927936\n",
      "57 \t 144115188075855872\n",
      "58 \t 288230376151711744\n",
      "59 \t 576460752303423488\n",
      "60 \t 1152921504606846976\n",
      "61 \t 2305843009213693952\n",
      "62 \t 4611686018427387904\n",
      "63 \t 9223372036854775808\n",
      "64 \t 18446744073709551616\n",
      "65 \t 36893488147419103232\n",
      "66 \t 73786976294838206464\n",
      "67 \t 147573952589676412928\n",
      "68 \t 295147905179352825856\n",
      "69 \t 590295810358705651712\n",
      "70 \t 1180591620717411303424\n",
      "71 \t 2361183241434822606848\n",
      "72 \t 4722366482869645213696\n",
      "73 \t 9444732965739290427392\n",
      "74 \t 18889465931478580854784\n",
      "75 \t 37778931862957161709568\n",
      "76 \t 75557863725914323419136\n",
      "77 \t 151115727451828646838272\n",
      "78 \t 302231454903657293676544\n",
      "79 \t 604462909807314587353088\n",
      "80 \t 1208925819614629174706176\n",
      "81 \t 2417851639229258349412352\n",
      "82 \t 4835703278458516698824704\n",
      "83 \t 9671406556917033397649408\n",
      "84 \t 19342813113834066795298816\n",
      "85 \t 38685626227668133590597632\n",
      "86 \t 77371252455336267181195264\n",
      "87 \t 154742504910672534362390528\n"
     ]
    }
   ],
   "source": [
    "# See on Pythoni kood, järgneb väljund\n",
    "print(\"n \\t n-s kahe aste\")\n",
    "for n in range(88):\n",
    "    print(n, \"\\t\", 2**n)"
   ]
  },
  {
   "cell_type": "markdown",
   "metadata": {},
   "source": [
    "Lahtrite käivitamine (*Running*) annab väljundi ja muudab muutujate väärtusi. Selleks on *Cell* menüüs käsud Run Cells, Run All, Run All Above, Run All Below. Ctrl-Enter klahvikombinatsioon käivitab valitud lahtri. Käivitamise järjekord on oluline: kui näiteks ülemised lahtrid, mis omistavad väärtused alumiste lahtrite poolt kasutatavatele muutujatele pole käivitatud, siis alumised lahtrid ei tööta korrektselt. Run All on selles mõttes ohutuim valik, aga tihti aeglane."
   ]
  },
  {
   "cell_type": "markdown",
   "metadata": {},
   "source": [
    "Lahtrid võivad sisaldada *LaTeXi valemeid*, nagu: \n",
    "$$\\rho = \\sqrt{x^2 + y^2}$$"
   ]
  },
  {
   "cell_type": "markdown",
   "metadata": {},
   "source": [
    "On ka võimalik lisada linke ja pilte:\n",
    "\n",
    "[Link to IPython](http://ipython.org)\n",
    "\n",
    "[Markdown Cheat Sheet](http://nestacms.com/docs/creating-content/markdown-cheat-sheet)\n",
    "\n",
    "<img src=\"https://www.python.org/static/img/python-logo.png\">\n",
    "\n",
    "\n",
    "ja Youtube videoid:"
   ]
  },
  {
   "cell_type": "code",
   "execution_count": 2,
   "metadata": {},
   "outputs": [
    {
     "data": {
      "image/jpeg": "[encoded data removed]",
      "text/html": [
       "\n",
       "        <iframe\n",
       "            width=\"400\"\n",
       "            height=\"300\"\n",
       "            src=\"https://www.youtube.com/embed/XkXXpaVpNSc\"\n",
       "            frameborder=\"0\"\n",
       "            allowfullscreen\n",
       "        ></iframe>\n",
       "        "
      ],
      "text/plain": [
       "<IPython.lib.display.YouTubeVideo at 0x2321a717948>"
      ]
     },
     "execution_count": 2,
     "metadata": {},
     "output_type": "execute_result"
    }
   ],
   "source": [
    "\n",
    "from IPython.display import YouTubeVideo\n",
    "YouTubeVideo('XkXXpaVpNSc')\n"
   ]
  },
  {
   "cell_type": "markdown",
   "metadata": {},
   "source": [
    "Märkmiku võib salvestada interaktiivse .ipynb failina või staatilise html või pdf failina."
   ]
  },
  {
   "cell_type": "markdown",
   "metadata": {},
   "source": [
    "# IPythoni taristu\n",
    "\n",
    "IPythoni taristu koosneb:\n",
    "* Jupyteri märkmik, mis toetab üle 40 programmeerimiskeele.\n",
    "* Standard Python\n",
    "* [SciPy stack](http://www.scipy.org/index.html) teadus ja andmeanalüüsi moodulid:\n",
    "  * NumPy: N-dimensionaalne massiiv, maatriksarvutused \n",
    "  * SciPy: teadusarvutused, statistika jne.\n",
    "  * Matplotlib: graafikud\n",
    "  * pandas: andmeanalüüs, dataframe andmestruktuur\n",
    "  * Sympy: sümbolmatemaatika, diferentsiaal- ja integraalarvutus\n",
    "  * scikit-learn: andmekaeve, masinõpe\n",
    "  ...\n",
    "  \n",
    "Lihtne viis neid installeerida on  [Anaconda](https://www.anaconda.com/distribution/) Pyhtoni distributsioon. Saadaval ka ülikooli Application Catalogist.        "
   ]
  },
  {
   "cell_type": "code",
   "execution_count": 3,
   "metadata": {},
   "outputs": [
    {
     "ename": "ModuleNotFoundError",
     "evalue": "No module named 'numpy'",
     "output_type": "error",
     "traceback": [
      "\u001b[1;31m---------------------------------------------------------------------------\u001b[0m",
      "\u001b[1;31mModuleNotFoundError\u001b[0m                       Traceback (most recent call last)",
      "\u001b[1;32m<ipython-input-3-184904529f2a>\u001b[0m in \u001b[0;36m<module>\u001b[1;34m\u001b[0m\n\u001b[0;32m      1\u001b[0m \u001b[1;31m# Näide numpy massivide and matplotlib graafikutega\u001b[0m\u001b[1;33m\u001b[0m\u001b[1;33m\u001b[0m\u001b[1;33m\u001b[0m\u001b[0m\n\u001b[0;32m      2\u001b[0m \u001b[1;33m\u001b[0m\u001b[0m\n\u001b[1;32m----> 3\u001b[1;33m \u001b[1;32mimport\u001b[0m \u001b[0mnumpy\u001b[0m \u001b[1;32mas\u001b[0m \u001b[0mnp\u001b[0m\u001b[1;33m\u001b[0m\u001b[1;33m\u001b[0m\u001b[0m\n\u001b[0m\u001b[0;32m      4\u001b[0m \u001b[1;32mfrom\u001b[0m \u001b[0mmatplotlib\u001b[0m \u001b[1;32mimport\u001b[0m \u001b[0mpyplot\u001b[0m \u001b[1;32mas\u001b[0m \u001b[0mplt\u001b[0m\u001b[1;33m\u001b[0m\u001b[1;33m\u001b[0m\u001b[0m\n\u001b[0;32m      5\u001b[0m \u001b[0mget_ipython\u001b[0m\u001b[1;33m(\u001b[0m\u001b[1;33m)\u001b[0m\u001b[1;33m.\u001b[0m\u001b[0mrun_line_magic\u001b[0m\u001b[1;33m(\u001b[0m\u001b[1;34m'matplotlib'\u001b[0m\u001b[1;33m,\u001b[0m \u001b[1;34m'inline'\u001b[0m\u001b[1;33m)\u001b[0m\u001b[1;33m\u001b[0m\u001b[1;33m\u001b[0m\u001b[0m\n",
      "\u001b[1;31mModuleNotFoundError\u001b[0m: No module named 'numpy'"
     ]
    }
   ],
   "source": [
    "# Näide numpy massivide and matplotlib graafikutega\n",
    "\n",
    "import numpy as np\n",
    "from matplotlib import pyplot as plt\n",
    "%matplotlib inline\n",
    "x = np.arange(-20,211)\n",
    "y = x**3 + 80\n",
    "print(\"Array x\\n\", x)\n",
    "print(\"Array y\\n\", y)\n",
    "plt.plot(x, y)"
   ]
  },
  {
   "cell_type": "markdown",
   "metadata": {},
   "source": [
    "## Üldotstarbelise keele (Python) eelised\n",
    "\n",
    "Selline interaktiivne stiil programmeerimiseks ei ole uus, vahendid, nagu MATLAB, on vanad ja hästi tuntud.\n",
    "\n",
    "Samas on üldotstarbelisel keelel mitmeid eeliseid:\n",
    "* Andmete kogumine. Web crawlerite jms programmeerimine on Pythonis lihtne.\n",
    "* Andmete teisendamine. Python omab võimsaid standardmooduleid failitöötluseks ja andmeteisenduseks.\n",
    "...\n",
    "\n",
    "Jupyteri märkmikul on oma eelised:\n",
    "* Kasutatav pilvest ja veebist.\n",
    "* Salvestab märkimkud pdf ja html formaati.\n",
    "* Toetab erinevaid programmeerimiskeeli.\n",
    "* Tööaja mõõtmise tugi\n",
    "..."
   ]
  }
 ],
 "metadata": {
  "kernelspec": {
   "display_name": "Python 3",
   "language": "python",
   "name": "python3"
  },
  "language_info": {
   "codemirror_mode": {
    "name": "ipython",
    "version": 3
   },
   "file_extension": ".py",
   "mimetype": "text/x-python",
   "name": "python",
   "nbconvert_exporter": "python",
   "pygments_lexer": "ipython3",
   "version": "3.7.4"
  }
 },
 "nbformat": 4,
 "nbformat_minor": 1
}
