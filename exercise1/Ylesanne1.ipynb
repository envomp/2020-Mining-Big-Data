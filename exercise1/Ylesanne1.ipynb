{
 "cells": [
  {
   "cell_type": "markdown",
   "metadata": {},
   "source": [
    "# Aritmeetika ja if lause\n",
    "\n",
    "[Using Python as a Calculator](https://docs.python.org/3/tutorial/introduction.html#using-python-as-a-calculator)\n",
    "aritmeetika: +, -, *, /, ** (astendamine)\n",
    "\n",
    "math moodul: import math, math.sqrt (ruutjuur), math.log, math.sin, math.cos, math.tan \n",
    "\n",
    "omistamine: =\n",
    "\n",
    "võrdlus: ==, !=, >, <, >=, <=\n",
    "\n",
    "loogika: not, and, or\n",
    "\n",
    "[if-statements](https://docs.python.org/3/tutorial/controlflow.html#if-statements)\n"
   ]
  },
  {
   "cell_type": "code",
   "execution_count": 42,
   "metadata": {
    "pycharm": {
     "is_executing": false
    }
   },
   "outputs": [
    {
     "data": {
      "text/plain": [
       "103.84307569132208"
      ]
     },
     "execution_count": 42,
     "metadata": {},
     "output_type": "execute_result"
    }
   ],
   "source": [
    "# aritmeetilised avaldised\n",
    "import math\n",
    "x = -2**4 + 80/65\n",
    "z = math.sqrt(-x) +100\n",
    "z"
   ]
  },
  {
   "cell_type": "code",
   "execution_count": 43,
   "metadata": {
    "pycharm": {
     "is_executing": false
    }
   },
   "outputs": [
    {
     "data": {
      "text/plain": [
       "False"
      ]
     },
     "execution_count": 43,
     "metadata": {},
     "output_type": "execute_result"
    }
   ],
   "source": [
    "# loogikaavaldised\n",
    "(x >= z) or (x > 0)"
   ]
  },
  {
   "cell_type": "code",
   "execution_count": 44,
   "metadata": {
    "pycharm": {
     "is_executing": false
    }
   },
   "outputs": [
    {
     "name": "stdout",
     "output_type": "stream",
     "text": [
      "x on negatiivne\n"
     ]
    }
   ],
   "source": [
    "# if struktuur, whitespace (joondamine) määrab Pythonis plokistruktuur\n",
    "\n",
    "if x > 0:\n",
    "    print(\"x on positiivne\")\n",
    "elif x==0:\n",
    "    print(\"x on null\")\n",
    "else:\n",
    "    print(\"x on negatiivne\")\n"
   ]
  },
  {
   "cell_type": "markdown",
   "metadata": {},
   "source": [
    "# Ülesanne 1\n",
    "\n",
    "a.) Lisada siia alla tekstilahter (*Insert -> Insert Cell Below*, tüübiks valida *Markdown*, mitte *Code*). Kirjutage tekstilahtrisse oma nimi ja matriklinumber."
   ]
  },
  {
   "cell_type": "markdown",
   "metadata": {},
   "source": [
    "Enrico Vompa 185787IAIB"
   ]
  },
  {
   "cell_type": "markdown",
   "metadata": {},
   "source": [
    "b.) Omistamine.  Lisage siia alla koodilahter, kus omistage muutujatele *v* ja *t* väärtused 10 ja 20."
   ]
  },
  {
   "cell_type": "code",
   "execution_count": 45,
   "metadata": {},
   "outputs": [],
   "source": [
    "v = 1011\n",
    "t = 201"
   ]
  },
  {
   "cell_type": "markdown",
   "metadata": {},
   "source": [
    "c.) Aritmeetika. Lisage siia alla koodilahter, kus omistage uuele muutujale s väärtus $$s = v \\cdot t$$\n",
    "Väljastage muutuja *s* väärtus."
   ]
  },
  {
   "cell_type": "code",
   "execution_count": 46,
   "metadata": {},
   "outputs": [
    {
     "name": "stdout",
     "output_type": "stream",
     "text": [
      "203211\n"
     ]
    }
   ],
   "source": [
    "s = v * t\n",
    "print(s)"
   ]
  },
  {
   "cell_type": "markdown",
   "metadata": {},
   "source": [
    "d.) Omistamine. Lisage siia alla koodilahter, kus omistage muutujatele *a* ja *b* väärtused 3 ja 4.\n"
   ]
  },
  {
   "cell_type": "code",
   "execution_count": 47,
   "metadata": {},
   "outputs": [],
   "source": [
    "a = 31\n",
    "b = 41"
   ]
  },
  {
   "cell_type": "markdown",
   "metadata": {},
   "source": [
    "e.) Aritmeetika. Lisage siia alla koodilahter, kus omistage uuele muutujale *c* väärtus  $$ c = \\sqrt{a^2 + b^2}$$\n",
    "Väljastage muutuja *c* väärtus."
   ]
  },
  {
   "cell_type": "code",
   "execution_count": 48,
   "metadata": {
    "pycharm": {
     "is_executing": false
    }
   },
   "outputs": [
    {
     "name": "stdout",
     "output_type": "stream",
     "text": [
      "51.40038910358559\n"
     ]
    }
   ],
   "source": [
    "v = (a ** 2 + b ** 2) ** 0.5\n",
    "print(v)"
   ]
  },
  {
   "cell_type": "markdown",
   "metadata": {},
   "source": [
    "f.) Lisage koodilahter, kus omistage muutujatele *semester* ja *iseseisev* väärtused 31 ja 42."
   ]
  },
  {
   "cell_type": "code",
   "execution_count": 49,
   "metadata": {},
   "outputs": [],
   "source": [
    "semester = 302\n",
    "iseseisev = 52"
   ]
  },
  {
   "cell_type": "markdown",
   "metadata": {},
   "source": [
    "g.) Valik (**if**-struktuur). Leidke ja väljastage aine koguhinne sõltuvalt summast $$summa = semester+iseseisev$$ vastavalt järgnevale tabelile:\n",
    "\n",
    "| summa | hinne | \n",
    "| --- | --- |\n",
    "| 91... | 5 |\n",
    "| 81...90 | 4 |\n",
    "| 71...80 | 3 |\n",
    "| 61...70 | 2 |\n",
    "| 51...60 | 1 |\n",
    "| ... 50 | 0 |\n",
    "\n",
    "\n",
    "\n",
    "\n"
   ]
  },
  {
   "cell_type": "code",
   "execution_count": 52,
   "metadata": {
    "pycharm": {
     "is_executing": false
    }
   },
   "outputs": [
    {
     "name": "stdout",
     "text": [
      "5\n"
     ],
     "output_type": "stream"
    }
   ],
   "source": [
    "summa = semester + iseseisev\n",
    "print(max(min((summa - 41) // 10, 5), 0))"
   ]
  },
  {
   "cell_type": "markdown",
   "metadata": {},
   "source": [
    "h.) Muutke üleval muutujate *v, t, a, b, semester, iseseisev* väärtuseid. Käivitage koodilahtrid uuesti käsuga *Cell -> Run All*. Kontrollige väljundi muutumist."
   ]
  }
 ],
 "metadata": {
  "kernelspec": {
   "display_name": "Python 3",
   "language": "python",
   "name": "python3"
  },
  "language_info": {
   "codemirror_mode": {
    "name": "ipython",
    "version": 3
   },
   "file_extension": ".py",
   "mimetype": "text/x-python",
   "name": "python",
   "nbconvert_exporter": "python",
   "pygments_lexer": "ipython3",
   "version": "3.7.4"
  },
  "pycharm": {
   "stem_cell": {
    "cell_type": "raw",
    "source": [],
    "metadata": {
     "collapsed": false
    }
   }
  }
 },
 "nbformat": 4,
 "nbformat_minor": 2
}