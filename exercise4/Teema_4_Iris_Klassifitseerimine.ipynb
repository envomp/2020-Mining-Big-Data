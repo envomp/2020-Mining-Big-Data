{
 "cells": [
  {
   "cell_type": "markdown",
   "metadata": {},
   "source": [
    "# Klassifitseerimine\n",
    "\n",
    "Klassifitseerimine tähendab objekti liigi ennustamist vastavalt klassifikaatorile st arvutuslikule mudelile, mis väljastab kas objekti liigi või tõenäosusliku ennustuse. Klassifikaatorid treenitakse objektide peal, mille klass on teada, kasutades klassifikaatori tüübile sobivaid treeningmeetodeid.\n",
    "\n",
    "Sisukord:\n",
    "* [Andmestik Iris](#Iris)\n",
    "* [Ülesanne 4.1](#4_1)\n",
    "* [Klassifitseerimismeetodeid: pertseptronid, lineaarne regressioon ja otsustuspuud](#Meetodeid)\n",
    "* [Ülesanne 4.2](#4_2)\n"
   ]
  },
  {
   "cell_type": "markdown",
   "metadata": {},
   "source": [
    "# Andmestik *Iris*\n",
    "\n",
    "See sissejuhatav näide, mis annab lühiülevaate klassifitseerimisprotsessist, põhineb S.Raschka raamatu Python Machine Learning peatükil 3.\n",
    "\n",
    "\n",
    "Mooduli *sklearn* alammoodul ```datasets``` sisaldab mitmeid näiteandmestike, mida on võimalik vastava ```load_<nimi>()``` funkstiooniga laadida. Tavaliselt laeme me oma andmestikke csv failidest, aga selles näites me seda funktsionaalsust ei vaatle. *Iris* andmestik sisaldab erinevate iiriste (lill) mõõtmistulemusi."
   ]
  },
  {
   "cell_type": "code",
   "execution_count": 194,
   "metadata": {
    "pycharm": {
     "is_executing": true
    }
   },
   "outputs": [],
   "source": [
    "from sklearn import datasets\n",
    "\n",
    "iris = datasets.load_iris()"
   ]
  },
  {
   "cell_type": "markdown",
   "metadata": {
    "scrolled": true
   },
   "source": [
    "Vaatame andmestiku kirjeldust (DESCR). \n"
   ]
  },
  {
   "cell_type": "code",
   "execution_count": 195,
   "metadata": {
    "pycharm": {
     "is_executing": true
    }
   },
   "outputs": [
    {
     "name": "stdout",
     "output_type": "stream",
     "text": [
      "\n",
      " .. _iris_dataset:\n",
      "\n",
      "Iris plants dataset\n",
      "--------------------\n",
      "\n",
      "**Data Set Characteristics:**\n",
      "\n",
      "    :Number of Instances: 150 (50 in each of three classes)\n",
      "    :Number of Attributes: 4 numeric, predictive attributes and the class\n",
      "    :Attribute Information:\n",
      "        - sepal length in cm\n",
      "        - sepal width in cm\n",
      "        - petal length in cm\n",
      "        - petal width in cm\n",
      "        - class:\n",
      "                - Iris-Setosa\n",
      "                - Iris-Versicolour\n",
      "                - Iris-Virginica\n",
      "                \n",
      "    :Summary Statistics:\n",
      "\n",
      "    ============== ==== ==== ======= ===== ====================\n",
      "                    Min  Max   Mean    SD   Class Correlation\n",
      "    ============== ==== ==== ======= ===== ====================\n",
      "    sepal length:   4.3  7.9   5.84   0.83    0.7826\n",
      "    sepal width:    2.0  4.4   3.05   0.43   -0.4194\n",
      "    petal length:   1.0  6.9   3.76   1.76    0.9490  (high!)\n",
      "    petal width:    0.1  2.5   1.20   0.76    0.9565  (high!)\n",
      "    ============== ==== ==== ======= ===== ====================\n",
      "\n",
      "    :Missing Attribute Values: None\n",
      "    :Class Distribution: 33.3% for each of 3 classes.\n",
      "    :Creator: R.A. Fisher\n",
      "    :Donor: Michael Marshall (MARSHALL%PLU@io.arc.nasa.gov)\n",
      "    :Date: July, 1988\n",
      "\n",
      "The famous Iris database, first used by Sir R.A. Fisher. The dataset is taken\n",
      "from Fisher's paper. Note that it's the same as in R, but not as in the UCI\n",
      "Machine Learning Repository, which has two wrong data points.\n",
      "\n",
      "This is perhaps the best known database to be found in the\n",
      "pattern recognition literature.  Fisher's paper is a classic in the field and\n",
      "is referenced frequently to this day.  (See Duda & Hart, for example.)  The\n",
      "data set contains 3 classes of 50 instances each, where each class refers to a\n",
      "type of iris plant.  One class is linearly separable from the other 2; the\n",
      "latter are NOT linearly separable from each other.\n",
      "\n",
      ".. topic:: References\n",
      "\n",
      "   - Fisher, R.A. \"The use of multiple measurements in taxonomic problems\"\n",
      "     Annual Eugenics, 7, Part II, 179-188 (1936); also in \"Contributions to\n",
      "     Mathematical Statistics\" (John Wiley, NY, 1950).\n",
      "   - Duda, R.O., & Hart, P.E. (1973) Pattern Classification and Scene Analysis.\n",
      "     (Q327.D83) John Wiley & Sons.  ISBN 0-471-22361-1.  See page 218.\n",
      "   - Dasarathy, B.V. (1980) \"Nosing Around the Neighborhood: A New System\n",
      "     Structure and Classification Rule for Recognition in Partially Exposed\n",
      "     Environments\".  IEEE Transactions on Pattern Analysis and Machine\n",
      "     Intelligence, Vol. PAMI-2, No. 1, 67-71.\n",
      "   - Gates, G.W. (1972) \"The Reduced Nearest Neighbor Rule\".  IEEE Transactions\n",
      "     on Information Theory, May 1972, 431-433.\n",
      "   - See also: 1988 MLC Proceedings, 54-64.  Cheeseman et al\"s AUTOCLASS II\n",
      "     conceptual clustering system finds 3 classes in the data.\n",
      "   - Many, many more ...\n"
     ]
    }
   ],
   "source": [
    "print(\"\\n\",iris.DESCR)"
   ]
  },
  {
   "cell_type": "markdown",
   "metadata": {},
   "source": [
    "Vaatame toorandmete maatriksit (data)."
   ]
  },
  {
   "cell_type": "code",
   "execution_count": 196,
   "metadata": {
    "pycharm": {
     "is_executing": true
    }
   },
   "outputs": [
    {
     "data": {
      "text/plain": [
       "array([[5.1, 3.5, 1.4, 0.2],\n",
       "       [4.9, 3. , 1.4, 0.2],\n",
       "       [4.7, 3.2, 1.3, 0.2],\n",
       "       [4.6, 3.1, 1.5, 0.2],\n",
       "       [5. , 3.6, 1.4, 0.2],\n",
       "       [5.4, 3.9, 1.7, 0.4],\n",
       "       [4.6, 3.4, 1.4, 0.3],\n",
       "       [5. , 3.4, 1.5, 0.2],\n",
       "       [4.4, 2.9, 1.4, 0.2],\n",
       "       [4.9, 3.1, 1.5, 0.1],\n",
       "       [5.4, 3.7, 1.5, 0.2],\n",
       "       [4.8, 3.4, 1.6, 0.2],\n",
       "       [4.8, 3. , 1.4, 0.1],\n",
       "       [4.3, 3. , 1.1, 0.1],\n",
       "       [5.8, 4. , 1.2, 0.2],\n",
       "       [5.7, 4.4, 1.5, 0.4],\n",
       "       [5.4, 3.9, 1.3, 0.4],\n",
       "       [5.1, 3.5, 1.4, 0.3],\n",
       "       [5.7, 3.8, 1.7, 0.3],\n",
       "       [5.1, 3.8, 1.5, 0.3],\n",
       "       [5.4, 3.4, 1.7, 0.2],\n",
       "       [5.1, 3.7, 1.5, 0.4],\n",
       "       [4.6, 3.6, 1. , 0.2],\n",
       "       [5.1, 3.3, 1.7, 0.5],\n",
       "       [4.8, 3.4, 1.9, 0.2],\n",
       "       [5. , 3. , 1.6, 0.2],\n",
       "       [5. , 3.4, 1.6, 0.4],\n",
       "       [5.2, 3.5, 1.5, 0.2],\n",
       "       [5.2, 3.4, 1.4, 0.2],\n",
       "       [4.7, 3.2, 1.6, 0.2],\n",
       "       [4.8, 3.1, 1.6, 0.2],\n",
       "       [5.4, 3.4, 1.5, 0.4],\n",
       "       [5.2, 4.1, 1.5, 0.1],\n",
       "       [5.5, 4.2, 1.4, 0.2],\n",
       "       [4.9, 3.1, 1.5, 0.2],\n",
       "       [5. , 3.2, 1.2, 0.2],\n",
       "       [5.5, 3.5, 1.3, 0.2],\n",
       "       [4.9, 3.6, 1.4, 0.1],\n",
       "       [4.4, 3. , 1.3, 0.2],\n",
       "       [5.1, 3.4, 1.5, 0.2],\n",
       "       [5. , 3.5, 1.3, 0.3],\n",
       "       [4.5, 2.3, 1.3, 0.3],\n",
       "       [4.4, 3.2, 1.3, 0.2],\n",
       "       [5. , 3.5, 1.6, 0.6],\n",
       "       [5.1, 3.8, 1.9, 0.4],\n",
       "       [4.8, 3. , 1.4, 0.3],\n",
       "       [5.1, 3.8, 1.6, 0.2],\n",
       "       [4.6, 3.2, 1.4, 0.2],\n",
       "       [5.3, 3.7, 1.5, 0.2],\n",
       "       [5. , 3.3, 1.4, 0.2],\n",
       "       [7. , 3.2, 4.7, 1.4],\n",
       "       [6.4, 3.2, 4.5, 1.5],\n",
       "       [6.9, 3.1, 4.9, 1.5],\n",
       "       [5.5, 2.3, 4. , 1.3],\n",
       "       [6.5, 2.8, 4.6, 1.5],\n",
       "       [5.7, 2.8, 4.5, 1.3],\n",
       "       [6.3, 3.3, 4.7, 1.6],\n",
       "       [4.9, 2.4, 3.3, 1. ],\n",
       "       [6.6, 2.9, 4.6, 1.3],\n",
       "       [5.2, 2.7, 3.9, 1.4],\n",
       "       [5. , 2. , 3.5, 1. ],\n",
       "       [5.9, 3. , 4.2, 1.5],\n",
       "       [6. , 2.2, 4. , 1. ],\n",
       "       [6.1, 2.9, 4.7, 1.4],\n",
       "       [5.6, 2.9, 3.6, 1.3],\n",
       "       [6.7, 3.1, 4.4, 1.4],\n",
       "       [5.6, 3. , 4.5, 1.5],\n",
       "       [5.8, 2.7, 4.1, 1. ],\n",
       "       [6.2, 2.2, 4.5, 1.5],\n",
       "       [5.6, 2.5, 3.9, 1.1],\n",
       "       [5.9, 3.2, 4.8, 1.8],\n",
       "       [6.1, 2.8, 4. , 1.3],\n",
       "       [6.3, 2.5, 4.9, 1.5],\n",
       "       [6.1, 2.8, 4.7, 1.2],\n",
       "       [6.4, 2.9, 4.3, 1.3],\n",
       "       [6.6, 3. , 4.4, 1.4],\n",
       "       [6.8, 2.8, 4.8, 1.4],\n",
       "       [6.7, 3. , 5. , 1.7],\n",
       "       [6. , 2.9, 4.5, 1.5],\n",
       "       [5.7, 2.6, 3.5, 1. ],\n",
       "       [5.5, 2.4, 3.8, 1.1],\n",
       "       [5.5, 2.4, 3.7, 1. ],\n",
       "       [5.8, 2.7, 3.9, 1.2],\n",
       "       [6. , 2.7, 5.1, 1.6],\n",
       "       [5.4, 3. , 4.5, 1.5],\n",
       "       [6. , 3.4, 4.5, 1.6],\n",
       "       [6.7, 3.1, 4.7, 1.5],\n",
       "       [6.3, 2.3, 4.4, 1.3],\n",
       "       [5.6, 3. , 4.1, 1.3],\n",
       "       [5.5, 2.5, 4. , 1.3],\n",
       "       [5.5, 2.6, 4.4, 1.2],\n",
       "       [6.1, 3. , 4.6, 1.4],\n",
       "       [5.8, 2.6, 4. , 1.2],\n",
       "       [5. , 2.3, 3.3, 1. ],\n",
       "       [5.6, 2.7, 4.2, 1.3],\n",
       "       [5.7, 3. , 4.2, 1.2],\n",
       "       [5.7, 2.9, 4.2, 1.3],\n",
       "       [6.2, 2.9, 4.3, 1.3],\n",
       "       [5.1, 2.5, 3. , 1.1],\n",
       "       [5.7, 2.8, 4.1, 1.3],\n",
       "       [6.3, 3.3, 6. , 2.5],\n",
       "       [5.8, 2.7, 5.1, 1.9],\n",
       "       [7.1, 3. , 5.9, 2.1],\n",
       "       [6.3, 2.9, 5.6, 1.8],\n",
       "       [6.5, 3. , 5.8, 2.2],\n",
       "       [7.6, 3. , 6.6, 2.1],\n",
       "       [4.9, 2.5, 4.5, 1.7],\n",
       "       [7.3, 2.9, 6.3, 1.8],\n",
       "       [6.7, 2.5, 5.8, 1.8],\n",
       "       [7.2, 3.6, 6.1, 2.5],\n",
       "       [6.5, 3.2, 5.1, 2. ],\n",
       "       [6.4, 2.7, 5.3, 1.9],\n",
       "       [6.8, 3. , 5.5, 2.1],\n",
       "       [5.7, 2.5, 5. , 2. ],\n",
       "       [5.8, 2.8, 5.1, 2.4],\n",
       "       [6.4, 3.2, 5.3, 2.3],\n",
       "       [6.5, 3. , 5.5, 1.8],\n",
       "       [7.7, 3.8, 6.7, 2.2],\n",
       "       [7.7, 2.6, 6.9, 2.3],\n",
       "       [6. , 2.2, 5. , 1.5],\n",
       "       [6.9, 3.2, 5.7, 2.3],\n",
       "       [5.6, 2.8, 4.9, 2. ],\n",
       "       [7.7, 2.8, 6.7, 2. ],\n",
       "       [6.3, 2.7, 4.9, 1.8],\n",
       "       [6.7, 3.3, 5.7, 2.1],\n",
       "       [7.2, 3.2, 6. , 1.8],\n",
       "       [6.2, 2.8, 4.8, 1.8],\n",
       "       [6.1, 3. , 4.9, 1.8],\n",
       "       [6.4, 2.8, 5.6, 2.1],\n",
       "       [7.2, 3. , 5.8, 1.6],\n",
       "       [7.4, 2.8, 6.1, 1.9],\n",
       "       [7.9, 3.8, 6.4, 2. ],\n",
       "       [6.4, 2.8, 5.6, 2.2],\n",
       "       [6.3, 2.8, 5.1, 1.5],\n",
       "       [6.1, 2.6, 5.6, 1.4],\n",
       "       [7.7, 3. , 6.1, 2.3],\n",
       "       [6.3, 3.4, 5.6, 2.4],\n",
       "       [6.4, 3.1, 5.5, 1.8],\n",
       "       [6. , 3. , 4.8, 1.8],\n",
       "       [6.9, 3.1, 5.4, 2.1],\n",
       "       [6.7, 3.1, 5.6, 2.4],\n",
       "       [6.9, 3.1, 5.1, 2.3],\n",
       "       [5.8, 2.7, 5.1, 1.9],\n",
       "       [6.8, 3.2, 5.9, 2.3],\n",
       "       [6.7, 3.3, 5.7, 2.5],\n",
       "       [6.7, 3. , 5.2, 2.3],\n",
       "       [6.3, 2.5, 5. , 1.9],\n",
       "       [6.5, 3. , 5.2, 2. ],\n",
       "       [6.2, 3.4, 5.4, 2.3],\n",
       "       [5.9, 3. , 5.1, 1.8]])"
      ]
     },
     "execution_count": 196,
     "metadata": {},
     "output_type": "execute_result"
    }
   ],
   "source": [
    "iris.data"
   ]
  },
  {
   "cell_type": "markdown",
   "metadata": {},
   "source": [
    "Vaatame klasside vektorit ja klasside 0, 1, 2 nimesid, vektori iga element vastab maatriksi reale."
   ]
  },
  {
   "cell_type": "code",
   "execution_count": 197,
   "metadata": {
    "pycharm": {
     "is_executing": true
    }
   },
   "outputs": [
    {
     "data": {
      "text/plain": [
       "array([0, 0, 0, 0, 0, 0, 0, 0, 0, 0, 0, 0, 0, 0, 0, 0, 0, 0, 0, 0, 0, 0,\n",
       "       0, 0, 0, 0, 0, 0, 0, 0, 0, 0, 0, 0, 0, 0, 0, 0, 0, 0, 0, 0, 0, 0,\n",
       "       0, 0, 0, 0, 0, 0, 1, 1, 1, 1, 1, 1, 1, 1, 1, 1, 1, 1, 1, 1, 1, 1,\n",
       "       1, 1, 1, 1, 1, 1, 1, 1, 1, 1, 1, 1, 1, 1, 1, 1, 1, 1, 1, 1, 1, 1,\n",
       "       1, 1, 1, 1, 1, 1, 1, 1, 1, 1, 1, 1, 2, 2, 2, 2, 2, 2, 2, 2, 2, 2,\n",
       "       2, 2, 2, 2, 2, 2, 2, 2, 2, 2, 2, 2, 2, 2, 2, 2, 2, 2, 2, 2, 2, 2,\n",
       "       2, 2, 2, 2, 2, 2, 2, 2, 2, 2, 2, 2, 2, 2, 2, 2, 2, 2])"
      ]
     },
     "execution_count": 197,
     "metadata": {},
     "output_type": "execute_result"
    }
   ],
   "source": [
    "iris.target"
   ]
  },
  {
   "cell_type": "code",
   "execution_count": 198,
   "metadata": {
    "pycharm": {
     "is_executing": true
    }
   },
   "outputs": [
    {
     "data": {
      "text/plain": [
       "array(['setosa', 'versicolor', 'virginica'], dtype='<U10')"
      ]
     },
     "execution_count": 198,
     "metadata": {},
     "output_type": "execute_result"
    }
   ],
   "source": [
    "iris.target_names"
   ]
  },
  {
   "cell_type": "markdown",
   "metadata": {},
   "source": [
    "Omistame andmemaatriksi muutujale *X* ja klassivektori muutujale *y*."
   ]
  },
  {
   "cell_type": "code",
   "execution_count": 199,
   "metadata": {
    "pycharm": {
     "is_executing": true
    }
   },
   "outputs": [],
   "source": [
    "X = iris.data\n",
    "y = iris.target"
   ]
  },
  {
   "cell_type": "markdown",
   "metadata": {},
   "source": [
    "Kuna me tahame kontrollida, kuidas meie ennustav mudel töötab uute andmetega, siis on õige jagada andmestik treening- (*X_train, y_train*) ja testandmeteks (*X_test, y_test*). Selle jaoks kasutame mooduli [model_selection](https://scikit-learn.org/stable/model_selection.html#model-selection) funktsiooni [train_test_split()](https://scikit-learn.org/stable/modules/generated/sklearn.model_selection.train_test_split.html#sklearn.model_selection.train_test_split). Funktsiooni parameetreid määravad testandmete proportsiooni koguandmetest (30%) ja juhuarvude generaatori sisendmuutuja. "
   ]
  },
  {
   "cell_type": "code",
   "execution_count": 200,
   "metadata": {
    "pycharm": {
     "is_executing": true
    }
   },
   "outputs": [
    {
     "name": "stdout",
     "output_type": "stream",
     "text": [
      "Treeningklassid: [1 2 2 2 2 1 2 1 1 2 2 2 2 1 2 1 0 2 1 1 1 1 2 0 0 2 1 0 0 1 0 2 1 0 1 2 1\n",
      " 0 2 2 2 2 0 0 2 2 0 2 0 2 2 0 0 2 0 0 0 1 2 2 0 0 0 1 1 0 0 1 0 2 1 2 1 0\n",
      " 2 0 2 0 0 2 0 2 1 1 1 2 2 1 1 0 1 2 2 0 1 1 1 1 0 0 0 2 1 2 0]\n",
      "\n",
      "Testklassid: [2 1 0 2 0 2 0 1 1 1 2 1 1 1 1 0 1 1 0 0 2 1 0 0 2 0 0 1 1 0 2 1 0 2 2 1 0\n",
      " 1 1 1 2 0 2 0 0]\n"
     ]
    }
   ],
   "source": [
    "from sklearn.model_selection import train_test_split\n",
    "X_train, X_test, y_train, y_test = train_test_split(X, y, test_size=0.3, random_state=0)\n",
    "print(\"Treeningklassid:\", y_train)\n",
    "print(\"\\nTestklassid:\", y_test)"
   ]
  },
  {
   "cell_type": "markdown",
   "metadata": {},
   "source": [
    "Paljud masinõppe algoritmid vajavad optimaalseks tööks omaduste(atribuutide) väärtuste skaleerimist/normaliseerimist. Siin kasutame selleks eeltöötluseks  [preprocessing](https://scikit-learn.org/stable/modules/preprocessing.html#preprocessing)  mooduli klassi [StandardScaler](https://scikit-learn.org/stable/modules/generated/sklearn.preprocessing.StandardScaler.html#sklearn.preprocessing.StandardScaler) (keskväärtus 0, ühikdispersioon). Seostame selle ```fit()``` meetodi abil ```X_train``` andmestikuga ja omistame transformeeritud ```X_train``` ja ```X_test``` andmestikud muutujatele ```X_train_std, X_test_std```."
   ]
  },
  {
   "cell_type": "code",
   "execution_count": 201,
   "metadata": {
    "pycharm": {
     "is_executing": true
    }
   },
   "outputs": [
    {
     "name": "stdout",
     "output_type": "stream",
     "text": [
      "[[-0.10694994 -0.55721505  0.70793846  1.51006688]\n",
      " [ 0.1222285  -1.92315077  0.09545238 -0.29318114]\n",
      " [-0.45071761  2.6299683  -1.35224199 -1.32360858]\n",
      " [ 1.6118884  -0.32955909  1.37610509  0.7372463 ]\n",
      " [-1.02366372  0.80872067 -1.29656144 -1.32360858]\n",
      " [ 0.46599617  0.58106472  1.20906343  1.63887031]\n",
      " [-1.02366372  1.03637663 -1.40792255 -1.19480515]\n",
      " [ 0.92435306  0.12575281  0.48521625  0.35083601]\n",
      " [ 1.03894229 -0.55721505  0.5408968   0.22203258]\n",
      " [ 0.23681773 -0.55721505  0.09545238  0.09322915]\n",
      " [ 0.23681773 -1.01252695  0.98634122  0.22203258]\n",
      " [ 0.5805854   0.35340877  0.37385514  0.35083601]\n",
      " [ 0.23681773 -0.55721505  0.48521625 -0.03557428]\n",
      " [ 0.69517462 -0.55721505  0.42953569  0.35083601]\n",
      " [ 0.23681773 -0.32955909  0.48521625  0.22203258]\n",
      " [-1.13825295  1.26403258 -1.35224199 -1.45241201]\n",
      " [ 0.1222285  -0.32955909  0.37385514  0.35083601]\n",
      " [-0.45071761 -1.01252695  0.31817459 -0.03557428]\n",
      " [-1.25284217 -0.10190314 -1.35224199 -1.19480515]\n",
      " [-0.56530683  1.94700044 -1.40792255 -1.06600172]\n",
      " [-0.33612839 -0.55721505  0.59657735  0.99485316]\n",
      " [-0.33612839 -0.10190314  0.37385514  0.35083601]\n",
      " [-1.25284217  0.80872067 -1.07383923 -1.32360858]\n",
      " [-1.71119906 -0.32955909 -1.35224199 -1.32360858]\n",
      " [ 0.35140695 -0.55721505  0.5408968   0.7372463 ]\n",
      " [-1.48202061  1.26403258 -1.57496421 -1.32360858]\n",
      " [-0.9090745   1.71934449 -1.07383923 -1.06600172]\n",
      " [ 0.35140695 -0.32955909  0.26249403  0.09322915]\n",
      " [-1.02366372 -1.69549482 -0.29431149 -0.29318114]\n",
      " [-1.02366372  0.80872067 -1.24088089 -1.06600172]\n",
      " [ 0.5805854   0.12575281  0.93066067  0.7372463 ]\n",
      " [-0.56530683 -0.10190314  0.37385514  0.35083601]\n",
      " [-0.79448528  1.03637663 -1.29656144 -1.32360858]\n",
      " [ 0.23681773 -0.10190314  0.59657735  0.7372463 ]\n",
      " [ 0.5805854  -0.55721505  0.98634122  1.25246002]\n",
      " [-0.79448528 -0.784871    0.03977182  0.22203258]\n",
      " [-0.22153916  1.71934449 -1.18520034 -1.19480515]\n",
      " [ 0.1222285  -0.784871    0.70793846  0.47963944]\n",
      " [ 0.00763928 -0.10190314  0.20681348  0.35083601]\n",
      " [-0.10694994 -1.01252695  0.09545238 -0.03557428]\n",
      " [ 1.03894229 -0.10190314  0.93066067  1.12365659]\n",
      " [-1.36743139  0.35340877 -1.40792255 -1.32360858]\n",
      " [ 1.15353151  0.12575281  0.70793846  1.38126345]\n",
      " [-1.02366372  1.03637663 -1.24088089 -0.80839486]\n",
      " [-0.56530683  1.49168853 -1.29656144 -1.32360858]]\n"
     ]
    }
   ],
   "source": [
    "from sklearn.preprocessing import StandardScaler\n",
    "sc = StandardScaler()\n",
    "sc.fit(X_train)\n",
    "X_train_std = sc.transform(X_train)\n",
    "X_test_std = sc.transform(X_test)\n",
    "\n",
    "print(X_test_std)"
   ]
  },
  {
   "cell_type": "markdown",
   "metadata": {},
   "source": [
    "<a id=#Pred></a>\n",
    "Järgmiseks tekitame klassifitseeriva (ennustava) mudeli. Siin kasutame selleks pertseptronit (lihtne tehisnärvivõrk, klass __[Perceptron](https://scikit-learn.org/stable/modules/generated/sklearn.linear_model.Perceptron.html)__). See osa tuleb mõne muu mudeli testimiseks, mida on [scikit-learn klassifitseerimise teemas](https://scikit-learn.org/stable/supervised_learning.html#supervised-learning) palju, üle kirjutada."
   ]
  },
  {
   "cell_type": "code",
   "execution_count": 202,
   "metadata": {
    "pycharm": {
     "is_executing": true
    }
   },
   "outputs": [],
   "source": [
    "from sklearn.linear_model import Perceptron, LogisticRegression\n",
    "from sklearn.tree import DecisionTreeClassifier\n",
    "from sklearn.svm import SVC\n",
    "from sklearn.neighbors import KNeighborsClassifier\n",
    "\n",
    "# predictive_model = Perceptron(max_iter=40, tol=0.001, eta0=0.1, random_state=0)\n",
    "# predictive_model = LogisticRegression(solver='lbfgs') # actually a classification, not regression\n",
    "# predictive_model = DecisionTreeClassifier()\n",
    "# predictive_model = SVC()\n",
    "predictive_model = KNeighborsClassifier()"
   ]
  },
  {
   "cell_type": "markdown",
   "metadata": {},
   "source": [
    "Treenime ennustava mudeli meetodi ```fit()``` abil kasutades treeningandmeid (andmemaatriks, oodatavate klasside vektor)."
   ]
  },
  {
   "cell_type": "code",
   "execution_count": 203,
   "metadata": {
    "pycharm": {
     "is_executing": true
    }
   },
   "outputs": [
    {
     "data": {
      "text/plain": [
       "KNeighborsClassifier(algorithm='auto', leaf_size=30, metric='minkowski',\n",
       "                     metric_params=None, n_jobs=None, n_neighbors=5, p=2,\n",
       "                     weights='uniform')"
      ]
     },
     "execution_count": 203,
     "metadata": {},
     "output_type": "execute_result"
    }
   ],
   "source": [
    "predictive_model.fit(X_train_std, y_train)"
   ]
  },
  {
   "cell_type": "markdown",
   "metadata": {},
   "source": [
    "Leiame ennustused ```y_pred``` testandmete tarbeks kasutades meetodit ```predict()```.\n"
   ]
  },
  {
   "cell_type": "code",
   "execution_count": 204,
   "metadata": {
    "pycharm": {
     "is_executing": true
    }
   },
   "outputs": [
    {
     "name": "stdout",
     "output_type": "stream",
     "text": [
      "[2 1 0 2 0 2 0 1 1 1 2 1 1 1 1 0 1 1 0 0 2 1 0 0 2 0 0 1 1 0 2 1 0 2 2 1 0\n",
      " 2 1 1 2 0 2 0 0]\n"
     ]
    }
   ],
   "source": [
    "y_pred = predictive_model.predict(X_test_std)\n",
    "print(y_pred)"
   ]
  },
  {
   "cell_type": "markdown",
   "metadata": {},
   "source": [
    "Võrdleme ennustusi olemasolevate andmetega. Kasutame \n",
    "__[numpy massiivide](https://docs.scipy.org/doc/numpy/reference/generated/numpy.array.html)__  võrdlusoperaatorit !=, mis tagastab 0-1 vektori (kõik positsioonid, kus y_test väärtus ei võrdu y_pred väärtusega on 1, muu 0), mille me siis kokku summeerime."
   ]
  },
  {
   "cell_type": "code",
   "execution_count": 205,
   "metadata": {
    "pycharm": {
     "is_executing": true
    }
   },
   "outputs": [
    {
     "name": "stdout",
     "output_type": "stream",
     "text": [
      "Kokku: 45\n",
      "Valesti klassifitseeritud: 1\n"
     ]
    }
   ],
   "source": [
    "print(\"Kokku:\", len(y_test))\n",
    "print(\"Valesti klassifitseeritud:\", (y_test != y_pred).sum())"
   ]
  },
  {
   "cell_type": "markdown",
   "metadata": {},
   "source": [
    "Võime kasutada ka funktsiooni __[accuracy_score](https://scikit-learn.org/stable/modules/generated/sklearn.metrics.accuracy_score.html)__, mis arvutab ennustustäpsuse."
   ]
  },
  {
   "cell_type": "code",
   "execution_count": 206,
   "metadata": {
    "pycharm": {
     "is_executing": true
    }
   },
   "outputs": [
    {
     "name": "stdout",
     "output_type": "stream",
     "text": [
      "Täpsus: 0.9777777777777777\n"
     ]
    }
   ],
   "source": [
    "from sklearn.metrics import accuracy_score\n",
    "print(\"Täpsus:\", accuracy_score(y_test, y_pred))"
   ]
  },
  {
   "cell_type": "markdown",
   "metadata": {},
   "source": [
    "Kuva treening- ja testandmed. Koodi detaile me siin lähemalt ei vaatle."
   ]
  },
  {
   "cell_type": "code",
   "execution_count": 207,
   "metadata": {
    "pycharm": {
     "is_executing": true
    }
   },
   "outputs": [],
   "source": [
    "import numpy as np\n",
    "from matplotlib.colors import ListedColormap\n",
    "import matplotlib.pyplot as plt\n",
    "import warnings\n",
    "\n",
    "\n",
    "def versiontuple(v):\n",
    "    return tuple(map(int, (v.split(\".\"))))\n",
    "\n",
    "\n",
    "def plot_decision_regions(X, y, classifier, test_idx=None, resolution=0.02):\n",
    "\n",
    "    # setup marker generator and color map\n",
    "    markers = ('s', 'x', '*', '^', 'v', 'd')\n",
    "    colors = ('yellow', 'blue', 'green', 'gray', 'cyan')\n",
    "    cmap = ListedColormap(colors[:len(np.unique(y))])\n",
    "    \n",
    "    for idx, cl in enumerate(np.unique(y)):\n",
    "        plt.scatter(x=X[y == cl, 0], \n",
    "                    y=X[y == cl, 1],\n",
    "                    alpha=0.6, \n",
    "                    c=cmap(idx),\n",
    "                    edgecolor='black',\n",
    "                    marker=markers[idx], \n",
    "                    label=cl)\n",
    "    \n",
    "    # highlight errors\n",
    "    Z = classifier.predict(X)\n",
    "    E = (Z != y)\n",
    "    plt.scatter(X[E, 0],\n",
    "                X[E, 1],\n",
    "                c='',\n",
    "                alpha=1.0,\n",
    "                edgecolor='red',\n",
    "                linewidths=2,\n",
    "                marker='d',\n",
    "                s=55, label='error')\n",
    "        \n",
    "    # highlight test samples\n",
    "    if test_idx:\n",
    "        # plot all samples\n",
    "        if not versiontuple(np.__version__) >= versiontuple('1.9.0'):\n",
    "            X_test, y_test = X[list(test_idx), :], y[list(test_idx)]\n",
    "            warnings.warn('Please update to NumPy 1.9.0 or newer')\n",
    "        else:\n",
    "            X_test, y_test = X[test_idx, :], y[test_idx]\n",
    "\n",
    "        plt.scatter(X_test[:, 0],\n",
    "                    X_test[:, 1],\n",
    "                    c='',\n",
    "                    alpha=1.0,\n",
    "                    edgecolor='black',\n",
    "                    linewidths=1,\n",
    "                    marker='o',\n",
    "                    s=55, label='test set')"
   ]
  },
  {
   "cell_type": "code",
   "execution_count": 208,
   "metadata": {
    "pycharm": {
     "is_executing": true
    },
    "scrolled": true
   },
   "outputs": [
    {
     "name": "stderr",
     "output_type": "stream",
     "text": [
      "'c' argument looks like a single numeric RGB or RGBA sequence, which should be avoided as value-mapping will have precedence in case its length matches with 'x' & 'y'.  Please use a 2-D array with a single row if you really want to specify the same RGB or RGBA value for all points.\n",
      "'c' argument looks like a single numeric RGB or RGBA sequence, which should be avoided as value-mapping will have precedence in case its length matches with 'x' & 'y'.  Please use a 2-D array with a single row if you really want to specify the same RGB or RGBA value for all points.\n",
      "'c' argument looks like a single numeric RGB or RGBA sequence, which should be avoided as value-mapping will have precedence in case its length matches with 'x' & 'y'.  Please use a 2-D array with a single row if you really want to specify the same RGB or RGBA value for all points.\n"
     ]
    },
    {
     "data": {
      "image/png": "[encoded data removed]",
      "text/plain": [
       "<Figure size 432x288 with 1 Axes>"
      ]
     },
     "metadata": {
      "needs_background": "light"
     },
     "output_type": "display_data"
    }
   ],
   "source": [
    "X_combined_std = np.vstack((X_train_std, X_test_std))\n",
    "y_combined = np.hstack((y_train, y_test))\n",
    "\n",
    "plot_decision_regions(X=X_combined_std, y=y_combined,\n",
    "                      classifier=predictive_model, test_idx=range(105, 150))\n",
    "plt.xlabel('petal length [standardized]')\n",
    "plt.ylabel('petal width [standardized]')\n",
    "plt.legend(loc='upper left')\n",
    "\n",
    "plt.tight_layout()\n",
    "# plt.savefig('./figures/iris_perceptron_scikit.png', dpi=300)\n",
    "plt.show()"
   ]
  },
  {
   "cell_type": "markdown",
   "metadata": {},
   "source": [
    "<a id='4_1'></a>\n",
    "## Ülesanne 4.1\n",
    "\n",
    "a) Muutke lahtris, kus toimub [klassifikaatori initsialiseerimine](#Pred) ära kasutatav klassifikaator, proovides läbi järgmised: \n",
    "* [Perceptron](https://scikit-learn.org/stable/modules/linear_model.html#perceptron)\n",
    "* [LogisticRegression](https://scikit-learn.org/stable/modules/linear_model.html#logistic-regression)\n",
    "* [DecisionTree](https://scikit-learn.org/stable/modules/generated/sklearn.tree.DecisionTreeClassifier.html#sklearn.tree.DecisionTreeClassifier)\n",
    "* [Support Vector Classification (SVC)](https://scikit-learn.org/stable/modules/generated/sklearn.svm.SVC.html#sklearn.svm.SVC)\n",
    "* [KNeighborsClassifier](https://scikit-learn.org/stable/modules/generated/sklearn.neighbors.KNeighborsClassifier.html#sklearn.neighbors.KNeighborsClassifier)\n",
    "\n",
    "Millise meetodi puhul on täpsus (väga lihtsustatud mõõt, aga siin sobib) suurim?\n"
   ]
  },
  {
   "cell_type": "markdown",
   "metadata": {},
   "source": [
    "Täpsus: Perceptron 95.55555555%\n",
    "\n",
    "Täpsus: LogistigRegression 91.11111111%\n",
    "\n",
    "Täpsus: DecisionTree 97.77777778%\n",
    "\n",
    "Täpsus: SVC 97.77777778%\n",
    "\n",
    "Täpsus: KNeighborsClassifier 97.77777778%"
   ]
  },
  {
   "cell_type": "markdown",
   "metadata": {},
   "source": [
    "b) Laadige alla eelmises ülesandes vaadeldud [loomaaia andmestik](https://archive.ics.uci.edu/ml/datasets/zoo). Võtke veerg `aquatic` ennustatavaks klassiks Y. Looge andmetabel *X*, millest on eemaldatud klassile vastav veerg `aquatic` ja mittearvulised veerud `animal_name`ja `type`.\n",
    "\n",
    "Jagage andmed, nagu iiriste näites, treening- ja testandmeteks. Treenige a) osas mainitud  klassifikaatoreid ja leidke neist täpseim."
   ]
  },
  {
   "cell_type": "code",
   "execution_count": 209,
   "metadata": {
    "pycharm": {
     "is_executing": true
    }
   },
   "outputs": [],
   "source": [
    "import pandas as pd\n",
    "columns = [\"hair\", \"feathers\", \"eggs\", \"milk\", \"airborne\", \"aquatic\", \"predator\", \"toothed\", \"backbone\", \"breathes\", \"venomous\", \"fins\", \"legs\", \"tail\", \"domestic\", \"catsize\", \"type\"]\n",
    "zoo = pd.read_csv(\"zoo.data\", index_col=0, names=columns)\n",
    "y = zoo.aquatic\n",
    "X = zoo.drop([\"aquatic\", \"type\"], axis=1)"
   ]
  },
  {
   "cell_type": "code",
   "execution_count": 210,
   "metadata": {
    "pycharm": {
     "is_executing": true
    }
   },
   "outputs": [],
   "source": [
    "X_train, X_test, y_train, y_test = train_test_split(X, y, test_size=0.3, random_state=0)\n",
    "sc = StandardScaler()\n",
    "sc.fit(X_train)\n",
    "X_train_std = sc.transform(X_train)\n",
    "X_test_std = sc.transform(X_test)"
   ]
  },
  {
   "cell_type": "code",
   "execution_count": 211,
   "metadata": {
    "pycharm": {
     "is_executing": true
    }
   },
   "outputs": [],
   "source": [
    "# predictive_model = Perceptron(max_iter=40, tol=0.001, eta0=0.1, random_state=0)\n",
    "# predictive_model = LogisticRegression(solver='lbfgs') # classification\n",
    "# predictive_model = DecisionTreeClassifier()\n",
    "# predictive_model = SVC()\n",
    "predictive_model = KNeighborsClassifier()"
   ]
  },
  {
   "cell_type": "code",
   "execution_count": 212,
   "metadata": {
    "pycharm": {
     "is_executing": true
    }
   },
   "outputs": [],
   "source": [
    "predictive_model.fit(X_train_std, y_train)\n",
    "y_pred = predictive_model.predict(X_test_std)"
   ]
  },
  {
   "cell_type": "code",
   "execution_count": 213,
   "metadata": {
    "pycharm": {
     "is_executing": true
    }
   },
   "outputs": [
    {
     "name": "stdout",
     "output_type": "stream",
     "text": [
      "Kokku: 31\n",
      "Valesti klassifitseeritud: 5\n",
      "Täpsus: 0.8387096774193549\n"
     ]
    }
   ],
   "source": [
    "print(\"Kokku:\", len(y_test))\n",
    "print(\"Valesti klassifitseeritud:\", (y_test != y_pred).sum())\n",
    "print(\"Täpsus:\", accuracy_score(y_test, y_pred))"
   ]
  },
  {
   "cell_type": "markdown",
   "metadata": {
    "pycharm": {
     "is_executing": true,
     "name": "#%% md\n"
    }
   },
   "source": [
    "Täpsus: Perceptron 0.9032258064516129%\n",
    "\n",
    "Täpsus: LogisticRegression 0.8387096774193549%\n",
    "\n",
    "Täpsus: DecisionTreeClassifier 0.8387096774193549%\n",
    "\n",
    "Täpsus: SVC 0.8064516129032258%\n",
    "\n",
    "Täpsus: KNeighborsClassifier 0.8387096774193549%"
   ]
  },
  {
   "cell_type": "markdown",
   "metadata": {},
   "source": [
    "<a id=#Meetodeid></a>\n",
    "# Klassifitseerimismeetodeid: pertseptronid, lineaarne regressioon ja otsustuspuud\n",
    "\n",
    "\n",
    "Siin anname ülevaate mõningate klassifitseerimismeetodite teooriast. Kuigi scikit-learn võimaldab neid kasutada \"musta kastina\" on teooria ja vastava matemaatika ning algoritmide  tundmine tihti kasulik ja vajalik. Põhjalikum seletus kursuse põhiõpikust inglise keeles on siin: [Single-Layer Neural Networks and Gradient Descent](https://sebastianraschka.com/Articles/2015_singlelayer_neurons.html).\n",
    "\n",
    "\n",
    "## Pertseptron\n",
    "\n",
    "\n",
    "<img src=\"https://sebastianraschka.com/images/blog/2015/singlelayer_neural_networks_files/perceptron_neuron.png\">\n",
    "\n",
    "*Joonis 1. Neuron. S. Raschka, Python Machine Learning.* https://sebastianraschka.com/Articles/2015_singlelayer_neurons.html\n",
    "\n",
    "<img src=\"https://sebastianraschka.com/images/blog/2015/singlelayer_neural_networks_files/perceptron_schematic.png\">\n",
    "\n",
    "*Joonis 2. Pertseptroni skeem. S.Raschka, Python Machine Learning.*\n",
    "\n",
    "Summaarne sisend on arvutatud neuroni sisendväärtuste __x__ ja kaaluvektori **w** elementhaaval korrutise summana (vaadates vektoreid maatriksitena, saame selleks kasutada maatrikskorrutist):\n",
    "$z = w_1 x_1 + ... w_m x_ m$\n",
    "\n",
    "$w = \\begin{bmatrix}\n",
    "w_1  \\\\\n",
    "...  \\\\\n",
    "w_m   \n",
    "\\end{bmatrix},  \n",
    "x = \\begin{bmatrix}\n",
    "x_1  \\\\\n",
    "...  \\\\\n",
    "x_m   \n",
    "\\end{bmatrix}$\n",
    "\n",
    "Sisendväärtused vastavad närvivõrgu analoogias välisele stiimulile, kaalud neuroni dendriitide konfiguratsioonile ja summa on sisend aksonile, mis aktiveerub vastavalt aktivisatsioonifunktsioonile. "
   ]
  },
  {
   "cell_type": "code",
   "execution_count": 214,
   "metadata": {
    "pycharm": {
     "is_executing": true
    }
   },
   "outputs": [
    {
     "name": "stdout",
     "output_type": "stream",
     "text": [
      "[0.14238853 0.19963218 0.12092547 0.50764149]\n"
     ]
    }
   ],
   "source": [
    "# Tekitame juhuslikud pertseptroni kaalud w 4 sisendi jaoks\n",
    "w = np.random.rand(4)\n",
    "#w = np.ones(4)\n",
    "print(w)"
   ]
  },
  {
   "cell_type": "code",
   "execution_count": 215,
   "metadata": {
    "pycharm": {
     "is_executing": true
    }
   },
   "outputs": [],
   "source": [
    "# Rakendame neid esimesele objektile iiriste andmestikust\n",
    "# print(X[0])\n",
    "# z = w @ X[0].T\n",
    "# print(z)"
   ]
  },
  {
   "cell_type": "markdown",
   "metadata": {},
   "source": [
    "Aktivisatsioonifunktsiooniks $\\phi(z)$ kasutame siin lihtsat Heaviside (läve) funktsiooni, kus läveks on $\\theta$:\n",
    "\n",
    "$\\phi(z) = \\begin{cases}\n",
    "1 & \\text{kui $z \\geq \\theta$ } \\\\\n",
    "0 & \\text{muul juhul}\n",
    "\\end{cases}$"
   ]
  },
  {
   "cell_type": "code",
   "execution_count": 216,
   "metadata": {
    "pycharm": {
     "is_executing": true
    }
   },
   "outputs": [],
   "source": [
    "# # Näiteks nii (theta=0)\n",
    "# y_pred = int(z>=0)\n",
    "# y_pred"
   ]
  },
  {
   "cell_type": "markdown",
   "metadata": {},
   "source": [
    "Juhuslikud kaalud annavad loomulikult juhuslikke tulemusi. Juhitud  (supervised) õppimise käigus muudame me klassifikaatorit näiteobjektide põhjal. Antud juhul korrigeerime me kaale. Selleks on erinevaid meetodeid (geneetilised, evolutsioonilised, gradient descent), aga siin vaatame me vast kõige triviaalsemat võimalust, kus iga kaalu $w_j$ muudetakse $\\Delta w_j$ võrra:\n",
    "\n",
    "$w_j := w_j + \\Delta w_j$\n",
    "\n",
    "Korrektsioon $\\Delta w_j$ leitakse triviaalselt:\n",
    "\n",
    "$\\Delta w_j = \\eta (y-\\hat{y}) x_j$\n",
    "\n",
    "$\\eta$: õppimiskiiruse konstant 0...1 vahel, $y$: tegelik väärtus, $\\hat{y}$: ennustatud väärtus ehk $\\phi(z)$."
   ]
  },
  {
   "cell_type": "code",
   "execution_count": 217,
   "metadata": {
    "pycharm": {
     "is_executing": true
    },
    "scrolled": true
   },
   "outputs": [],
   "source": [
    "# Näiteks esimese objekti ja klassi versicolor jaoks\n",
    "# y_versi = (y==1).astype(int)\n",
    "# eta = 0.02 # õppimiskiirus\n",
    "# delta_w = eta * (y_versi[0]-y_pred) * X[0] # NB! X[0] on reavektor, opereerime kõigi kaaludega korraga\n",
    "# print(delta_w)\n",
    "# w += delta_w\n",
    "# print(w)"
   ]
  },
  {
   "cell_type": "code",
   "execution_count": 218,
   "metadata": {
    "pycharm": {
     "is_executing": true
    }
   },
   "outputs": [],
   "source": [
    "# Kontrollime ennustustäpsust\n",
    "# y_preds = [int((w @ x.T)>=0) for x in X[:100]]\n",
    "# print(y_preds)\n",
    "# print(\"Täpsus:\", sum(y_preds==y_versi[:100]) / len(y_preds))"
   ]
  },
  {
   "cell_type": "code",
   "execution_count": 219,
   "metadata": {
    "pycharm": {
     "is_executing": true
    }
   },
   "outputs": [],
   "source": [
    "# Tegelikult toimub õppimine loomulikult tsüklis\n",
    "# for x_i, y_i in zip(X[:100], y_versi[:100]):\n",
    "#     z = w @ x_i.T\n",
    "#     y_pred = int(z>=0)\n",
    "#     delta_w = eta * (y_i - y_pred) * x_i\n",
    "#     w += delta_w\n",
    "# print(w)"
   ]
  },
  {
   "cell_type": "code",
   "execution_count": 220,
   "metadata": {
    "pycharm": {
     "is_executing": true
    }
   },
   "outputs": [],
   "source": [
    "# Ja testime oma tulemust (treening- ja testandmed on meil samad, mis poe üldiselt hea)\n",
    "# y_preds = [int((w @ x.T)>=0) for x in X[:100]]\n",
    "# print(y_preds)\n",
    "# print(\"Täpsus:\", sum(y_preds==y_versi[:100]) / len(y_preds))\n"
   ]
  },
  {
   "cell_type": "markdown",
   "metadata": {},
   "source": [
    "## Logistiline regressioon\n",
    "\n"
   ]
  },
  {
   "cell_type": "markdown",
   "metadata": {},
   "source": [
    "<a id=#sigmoid></a>\n",
    "\n",
    "Logistiline regressioon ([scikit-learn Logistic Regression](https://scikit-learn.org/stable/modules/linear_model.html)) põhineb rafineeritumal aktivisatsioonifunktsioonil ja õppimisreeglil kui eelpool vaadeldud triviaalne pertseptron. Siin ei ole väljundiks mitte nominaalne klass , vaid tõenäosus vahemikus 0..1 ja õppimine põhineb gradientlaskumisel: kui ennustus on vähem mööda, siis muudetakse kaale vähem, kui rohkem mööda, siis rohkem.\n",
    "\n",
    "Summat  $z$ interpreteeritakse siin kui logaritmi sündmuse toimumise ja mittetoimumise tõenäosuste suhtest (tihti öeldakse näiteks, et šansid on kolm nelja vastu vms). Suhe tõenäosuse $p$ jaoks on $\\frac{p}{1-p}$. Logaritm sellest on $logit(p) = \\log \\frac{p}{1-p}$, mille omakorda võtame (meelevaldselt) võrdseks \n",
    "$$logit(p) = \\log \\frac{p}{1-p} = z = w^T x$$. \n",
    "\n",
    "Avaldise  $\\log \\frac{p}{1-p}$ teisendab tõenäosuseks tagasi **sigmoidfunktsioon** $$\\phi(z)=\\frac{1}{1+e^{-z}}$$, mida kasutame aktivisatsioonifunktsioonina.\n",
    "\n",
    "Vt ka [Logistic Regression: Why sigmoid function?](https://sebastianraschka.com/faq/docs/logistic-why-sigmoid.html)"
   ]
  },
  {
   "cell_type": "markdown",
   "metadata": {},
   "source": [
    "<img src=https://sebastianraschka.com/images/blog/2015/singlelayer_neural_networks_files/perceptron_gradient_descent_1.png></img>\n",
    "\n",
    "*Joonis 3. Gradientlaskumine. S.Raschka, Python Machine Learning.*"
   ]
  },
  {
   "cell_type": "markdown",
   "metadata": {},
   "source": [
    "Treenimisel lähtume me gradientlaskumise meetodist, kus $\\Delta \\mathbf{w}$ leidmisel lähtume vähimruutude meetodi põhiselt defineeritud hinnafunktsioonist (summeerime hinna üle kõigi treeningobjektide indeksitega $i$).\n",
    "\n",
    "$$J(\\mathbf{w})=\\sum_i{(\\phi(z^{(i)}) - y^{(i)})^2}$$\n",
    "\n",
    "Korrektsioon kaalule leitakse $J(w)$ tuletise/gradiendi abil $$\\Delta w_j = -\\eta \\frac{\\partial{J}}{\\partial{w_j}} = \\eta \\sum_i{(y^{(i)} - \\phi(z^{(i)})) x_j^{(i)}}$$"
   ]
  },
  {
   "cell_type": "markdown",
   "metadata": {},
   "source": [
    "## Otsustuspuu\n",
    "\n",
    "\n"
   ]
  },
  {
   "cell_type": "markdown",
   "metadata": {},
   "source": [
    "Otsustuspuud esitab visuaalselt mooduli `sklearn.tree` funktsioon `plot_tree()`, tekstina sama mooduli funktsioon `export_text()`.\n",
    "\n",
    "\n",
    "\n",
    "<!--Kahjuks ei ole GraphViz TTÜ arvutitesse installeeritud. Õnneks võimaldavad veebiliidesed, nagu\n",
    "https://dreampuf.github.io/GraphvizOnline/ dot faili teksti põhjal puud genereerida. Allolevas väljundlahtris leiduv tekst tuleb copy-paste abil veebiaknasse kopeerida, misjärel on võimalik genereeritud pilt salvestada.-->\n",
    "\n"
   ]
  },
  {
   "cell_type": "code",
   "execution_count": 230,
   "metadata": {
    "pycharm": {
     "is_executing": true
    },
    "scrolled": false
   },
   "outputs": [
    {
     "name": "stdout",
     "output_type": "stream",
     "text": [
      "digraph Tree {\n",
      "node [shape=box] ;\n",
      "0 [label=\"X[8] <= -0.942\\nentropy = 0.898\\nsamples = 70\\nvalue = [48, 22]\"] ;\n",
      "1 [label=\"entropy = 0.0\\nsamples = 11\\nvalue = [0, 11]\"] ;\n",
      "0 -> 1 [labeldistance=2.5, labelangle=45, headlabel=\"True\"] ;\n",
      "2 [label=\"X[10] <= 1.11\\nentropy = 0.694\\nsamples = 59\\nvalue = [48, 11]\"] ;\n",
      "0 -> 2 [labeldistance=2.5, labelangle=-45, headlabel=\"False\"] ;\n",
      "3 [label=\"X[2] <= -0.144\\nentropy = 0.592\\nsamples = 56\\nvalue = [48, 8]\"] ;\n",
      "2 -> 3 ;\n",
      "4 [label=\"entropy = 0.0\\nsamples = 27\\nvalue = [27, 0]\"] ;\n",
      "3 -> 4 ;\n",
      "5 [label=\"X[7] <= -0.75\\nentropy = 0.85\\nsamples = 29\\nvalue = [21, 8]\"] ;\n",
      "3 -> 5 ;\n",
      "6 [label=\"entropy = 0.0\\nsamples = 8\\nvalue = [8, 0]\"] ;\n",
      "5 -> 6 ;\n",
      "7 [label=\"X[12] <= -0.474\\nentropy = 0.959\\nsamples = 21\\nvalue = [13, 8]\"] ;\n",
      "5 -> 7 ;\n",
      "8 [label=\"entropy = 0.0\\nsamples = 2\\nvalue = [0, 2]\"] ;\n",
      "7 -> 8 ;\n",
      "9 [label=\"X[13] <= 0.942\\nentropy = 0.9\\nsamples = 19\\nvalue = [13, 6]\"] ;\n",
      "7 -> 9 ;\n",
      "10 [label=\"X[0] <= 0.086\\nentropy = 0.954\\nsamples = 16\\nvalue = [10, 6]\"] ;\n",
      "9 -> 10 ;\n",
      "11 [label=\"X[11] <= -1.05\\nentropy = 0.918\\nsamples = 15\\nvalue = [10, 5]\"] ;\n",
      "10 -> 11 ;\n",
      "12 [label=\"entropy = 0.0\\nsamples = 1\\nvalue = [1, 0]\"] ;\n",
      "11 -> 12 ;\n",
      "13 [label=\"X[5] <= -0.086\\nentropy = 0.94\\nsamples = 14\\nvalue = [9, 5]\"] ;\n",
      "11 -> 13 ;\n",
      "14 [label=\"X[4] <= 0.6\\nentropy = 0.863\\nsamples = 7\\nvalue = [5, 2]\"] ;\n",
      "13 -> 14 ;\n",
      "15 [label=\"entropy = 0.0\\nsamples = 2\\nvalue = [2, 0]\"] ;\n",
      "14 -> 15 ;\n",
      "16 [label=\"X[14] <= 0.086\\nentropy = 0.971\\nsamples = 5\\nvalue = [3, 2]\"] ;\n",
      "14 -> 16 ;\n",
      "17 [label=\"entropy = 0.918\\nsamples = 3\\nvalue = [2, 1]\"] ;\n",
      "16 -> 17 ;\n",
      "18 [label=\"entropy = 1.0\\nsamples = 2\\nvalue = [1, 1]\"] ;\n",
      "16 -> 18 ;\n",
      "19 [label=\"X[4] <= 0.6\\nentropy = 0.985\\nsamples = 7\\nvalue = [4, 3]\"] ;\n",
      "13 -> 19 ;\n",
      "20 [label=\"X[14] <= 0.086\\nentropy = 1.0\\nsamples = 4\\nvalue = [2, 2]\"] ;\n",
      "19 -> 20 ;\n",
      "21 [label=\"X[6] <= -0.144\\nentropy = 0.918\\nsamples = 3\\nvalue = [2, 1]\"] ;\n",
      "20 -> 21 ;\n",
      "22 [label=\"entropy = 0.0\\nsamples = 1\\nvalue = [1, 0]\"] ;\n",
      "21 -> 22 ;\n",
      "23 [label=\"entropy = 1.0\\nsamples = 2\\nvalue = [1, 1]\"] ;\n",
      "21 -> 23 ;\n",
      "24 [label=\"entropy = 0.0\\nsamples = 1\\nvalue = [0, 1]\"] ;\n",
      "20 -> 24 ;\n",
      "25 [label=\"X[14] <= 0.086\\nentropy = 0.918\\nsamples = 3\\nvalue = [2, 1]\"] ;\n",
      "19 -> 25 ;\n",
      "26 [label=\"entropy = 1.0\\nsamples = 2\\nvalue = [1, 1]\"] ;\n",
      "25 -> 26 ;\n",
      "27 [label=\"entropy = 0.0\\nsamples = 1\\nvalue = [1, 0]\"] ;\n",
      "25 -> 27 ;\n",
      "28 [label=\"entropy = 0.0\\nsamples = 1\\nvalue = [0, 1]\"] ;\n",
      "10 -> 28 ;\n",
      "29 [label=\"entropy = 0.0\\nsamples = 3\\nvalue = [3, 0]\"] ;\n",
      "9 -> 29 ;\n",
      "30 [label=\"entropy = 0.0\\nsamples = 3\\nvalue = [0, 3]\"] ;\n",
      "2 -> 30 ;\n",
      "}\n"
     ]
    },
    {
     "data": {
      "text/plain": [
       "[Text(90.13846153846154, 209.07692307692307, 'breathes <= -0.942\\nentropy = 0.898\\nsamples = 70\\nvalue = [48, 22]'),\n",
       " Text(64.38461538461539, 192.35076923076923, 'entropy = 0.0\\nsamples = 11\\nvalue = [0, 11]'),\n",
       " Text(115.8923076923077, 192.35076923076923, 'fins <= 1.11\\nentropy = 0.694\\nsamples = 59\\nvalue = [48, 11]'),\n",
       " Text(90.13846153846154, 175.62461538461537, 'eggs <= -0.144\\nentropy = 0.592\\nsamples = 56\\nvalue = [48, 8]'),\n",
       " Text(64.38461538461539, 158.89846153846153, 'entropy = 0.0\\nsamples = 27\\nvalue = [27, 0]'),\n",
       " Text(115.8923076923077, 158.89846153846153, 'backbone <= -0.75\\nentropy = 0.85\\nsamples = 29\\nvalue = [21, 8]'),\n",
       " Text(90.13846153846154, 142.1723076923077, 'entropy = 0.0\\nsamples = 8\\nvalue = [8, 0]'),\n",
       " Text(141.64615384615385, 142.1723076923077, 'tail <= -0.474\\nentropy = 0.959\\nsamples = 21\\nvalue = [13, 8]'),\n",
       " Text(115.8923076923077, 125.44615384615385, 'entropy = 0.0\\nsamples = 2\\nvalue = [0, 2]'),\n",
       " Text(167.4, 125.44615384615385, 'domestic <= 0.942\\nentropy = 0.9\\nsamples = 19\\nvalue = [13, 6]'),\n",
       " Text(141.64615384615385, 108.72, 'hair <= 0.086\\nentropy = 0.954\\nsamples = 16\\nvalue = [10, 6]'),\n",
       " Text(115.8923076923077, 91.99384615384615, 'legs <= -1.05\\nentropy = 0.918\\nsamples = 15\\nvalue = [10, 5]'),\n",
       " Text(90.13846153846154, 75.2676923076923, 'entropy = 0.0\\nsamples = 1\\nvalue = [1, 0]'),\n",
       " Text(141.64615384615385, 75.2676923076923, 'predator <= -0.086\\nentropy = 0.94\\nsamples = 14\\nvalue = [9, 5]'),\n",
       " Text(51.50769230769231, 58.541538461538465, 'airborne <= 0.6\\nentropy = 0.863\\nsamples = 7\\nvalue = [5, 2]'),\n",
       " Text(25.753846153846155, 41.81538461538463, 'entropy = 0.0\\nsamples = 2\\nvalue = [2, 0]'),\n",
       " Text(77.26153846153846, 41.81538461538463, 'catsize <= 0.086\\nentropy = 0.971\\nsamples = 5\\nvalue = [3, 2]'),\n",
       " Text(51.50769230769231, 25.089230769230767, 'entropy = 0.918\\nsamples = 3\\nvalue = [2, 1]'),\n",
       " Text(103.01538461538462, 25.089230769230767, 'entropy = 1.0\\nsamples = 2\\nvalue = [1, 1]'),\n",
       " Text(231.7846153846154, 58.541538461538465, 'airborne <= 0.6\\nentropy = 0.985\\nsamples = 7\\nvalue = [4, 3]'),\n",
       " Text(180.27692307692308, 41.81538461538463, 'catsize <= 0.086\\nentropy = 1.0\\nsamples = 4\\nvalue = [2, 2]'),\n",
       " Text(154.52307692307693, 25.089230769230767, 'toothed <= -0.144\\nentropy = 0.918\\nsamples = 3\\nvalue = [2, 1]'),\n",
       " Text(128.76923076923077, 8.363076923076932, 'entropy = 0.0\\nsamples = 1\\nvalue = [1, 0]'),\n",
       " Text(180.27692307692308, 8.363076923076932, 'entropy = 1.0\\nsamples = 2\\nvalue = [1, 1]'),\n",
       " Text(206.03076923076924, 25.089230769230767, 'entropy = 0.0\\nsamples = 1\\nvalue = [0, 1]'),\n",
       " Text(283.2923076923077, 41.81538461538463, 'catsize <= 0.086\\nentropy = 0.918\\nsamples = 3\\nvalue = [2, 1]'),\n",
       " Text(257.53846153846155, 25.089230769230767, 'entropy = 1.0\\nsamples = 2\\nvalue = [1, 1]'),\n",
       " Text(309.04615384615386, 25.089230769230767, 'entropy = 0.0\\nsamples = 1\\nvalue = [1, 0]'),\n",
       " Text(167.4, 91.99384615384615, 'entropy = 0.0\\nsamples = 1\\nvalue = [0, 1]'),\n",
       " Text(193.15384615384616, 108.72, 'entropy = 0.0\\nsamples = 3\\nvalue = [3, 0]'),\n",
       " Text(141.64615384615385, 175.62461538461537, 'entropy = 0.0\\nsamples = 3\\nvalue = [0, 3]')]"
      ]
     },
     "execution_count": 230,
     "metadata": {},
     "output_type": "execute_result"
    },
    {
     "data": {
      "image/png": "[encoded data removed]",
      "text/plain": [
       "<Figure size 432x288 with 1 Axes>"
      ]
     },
     "metadata": {
      "needs_background": "light"
     },
     "output_type": "display_data"
    }
   ],
   "source": [
    "import sklearn\n",
    "from sklearn import tree\n",
    "columns = [\"hair\",\"feathers\",\"eggs\",\"milk\",\"airborne\",\"predator\",\"toothed\",\"backbone\",\"breathes\",\"venomous\",\"fins\",\"legs\",\"tail\",\"domestic\",\"catsize\"]\n",
    "\n",
    "\n",
    "dt = DecisionTreeClassifier(criterion='entropy')\n",
    "dt.fit(X_train_std, y_train)\n",
    "dot = sklearn.tree.export_graphviz(dt, out_file=None)\n",
    "print(dot)\n",
    "\n",
    "sklearn.tree.plot_tree(dt, feature_names=columns)"
   ]
  },
  {
   "cell_type": "code",
   "execution_count": 229,
   "metadata": {
    "pycharm": {
     "is_executing": true
    }
   },
   "outputs": [
    {
     "name": "stdout",
     "output_type": "stream",
     "text": [
      "          hair  feathers  eggs  milk  airborne  predator  toothed  backbone  \\\n",
      "aardvark     1         0     0     1         0         1        1         1   \n",
      "antelope     1         0     0     1         0         0        1         1   \n",
      "bass         0         0     1     0         0         1        1         1   \n",
      "bear         1         0     0     1         0         1        1         1   \n",
      "boar         1         0     0     1         0         1        1         1   \n",
      "\n",
      "          breathes  venomous  fins  legs  tail  domestic  catsize  \n",
      "aardvark         1         0     0     4     0         0        1  \n",
      "antelope         1         0     0     4     1         0        1  \n",
      "bass             0         0     1     0     1         0        0  \n",
      "bear             1         0     0     4     0         0        1  \n",
      "boar             1         0     0     4     1         0        1  \n",
      "|--- breathes <= -0.94\n",
      "|   |--- class: 1\n",
      "|--- breathes >  -0.94\n",
      "|   |--- fins <= 1.11\n",
      "|   |   |--- eggs <= -0.14\n",
      "|   |   |   |--- class: 0\n",
      "|   |   |--- eggs >  -0.14\n",
      "|   |   |   |--- backbone <= -0.75\n",
      "|   |   |   |   |--- class: 0\n",
      "|   |   |   |--- backbone >  -0.75\n",
      "|   |   |   |   |--- tail <= -0.47\n",
      "|   |   |   |   |   |--- class: 1\n",
      "|   |   |   |   |--- tail >  -0.47\n",
      "|   |   |   |   |   |--- domestic <= 0.94\n",
      "|   |   |   |   |   |   |--- hair <= 0.09\n",
      "|   |   |   |   |   |   |   |--- legs <= -1.05\n",
      "|   |   |   |   |   |   |   |   |--- class: 0\n",
      "|   |   |   |   |   |   |   |--- legs >  -1.05\n",
      "|   |   |   |   |   |   |   |   |--- predator <= -0.09\n",
      "|   |   |   |   |   |   |   |   |   |--- airborne <= 0.60\n",
      "|   |   |   |   |   |   |   |   |   |   |--- class: 0\n",
      "|   |   |   |   |   |   |   |   |   |--- airborne >  0.60\n",
      "|   |   |   |   |   |   |   |   |   |   |--- catsize <= 0.09\n",
      "|   |   |   |   |   |   |   |   |   |   |   |--- class: 0\n",
      "|   |   |   |   |   |   |   |   |   |   |--- catsize >  0.09\n",
      "|   |   |   |   |   |   |   |   |   |   |   |--- class: 0\n",
      "|   |   |   |   |   |   |   |   |--- predator >  -0.09\n",
      "|   |   |   |   |   |   |   |   |   |--- airborne <= 0.60\n",
      "|   |   |   |   |   |   |   |   |   |   |--- catsize <= 0.09\n",
      "|   |   |   |   |   |   |   |   |   |   |   |--- truncated branch of depth 2\n",
      "|   |   |   |   |   |   |   |   |   |   |--- catsize >  0.09\n",
      "|   |   |   |   |   |   |   |   |   |   |   |--- class: 1\n",
      "|   |   |   |   |   |   |   |   |   |--- airborne >  0.60\n",
      "|   |   |   |   |   |   |   |   |   |   |--- catsize <= 0.09\n",
      "|   |   |   |   |   |   |   |   |   |   |   |--- class: 0\n",
      "|   |   |   |   |   |   |   |   |   |   |--- catsize >  0.09\n",
      "|   |   |   |   |   |   |   |   |   |   |   |--- class: 0\n",
      "|   |   |   |   |   |   |--- hair >  0.09\n",
      "|   |   |   |   |   |   |   |--- class: 1\n",
      "|   |   |   |   |   |--- domestic >  0.94\n",
      "|   |   |   |   |   |   |--- class: 0\n",
      "|   |--- fins >  1.11\n",
      "|   |   |--- class: 1\n",
      "\n"
     ]
    }
   ],
   "source": [
    "print(X.head())\n",
    "print(sklearn.tree.export_text(dt, feature_names=columns))"
   ]
  },
  {
   "cell_type": "code",
   "execution_count": 223,
   "metadata": {},
   "outputs": [],
   "source": [
    "<a id='4_2'></a>\n",
    "## Ülesanne 4.2 \n",
    "\n",
    "a.) Näidake, et asendades $z = \\log \\frac{p}{1-p}$ [sigmoidfunktsiooni](#sigmoid) $\\phi(z)=\\frac{1}{1+e^{-z}}$ saame väärtuseks tõenäosuse $p$. Pange tuletuskäik siia kirja, kasutades dollarisümbolite vahel LaTeX-i matemaatilist notatsiooni. Vt näiteks https://www.overleaf.com/learn/latex/Mathematical_expressions , ka tavaline Google otsing LaTeX+probleem annab tavaliselt tulemuseks mõistliku StackExchange vastuse.\n",
    "\n",
    "b.) Genereerida ülesande 4.1.b loomaaia andmestiku põhjal otsustuspuu pilt. Millised puu lehed katavad suurt osa loomadest (*samples* on suur)? Millised reeglid st kombineeritud tingimused vastavad nendesse lehtedesse viivatele harudele?\n",
    "\n",
    "$$\\phi(z)=\\frac{1}{1+e^{-\\log \\frac{p}{1-p}}}=\\frac{1}{1+\\frac{1-p}{p}}=\\frac{1}{\\frac{1}{p}}=p$$"
   ]
  }
 ],
 "metadata": {
  "kernelspec": {
   "display_name": "Python 3",
   "language": "python",
   "name": "python3"
  },
  "language_info": {
   "codemirror_mode": {
    "name": "ipython",
    "version": 3
   },
   "file_extension": ".py",
   "mimetype": "text/x-python",
   "name": "python",
   "nbconvert_exporter": "python",
   "pygments_lexer": "ipython3",
   "version": "3.7.4"
  },
  "pycharm": {
   "stem_cell": {
    "cell_type": "raw",
    "source": [],
    "metadata": {
     "collapsed": false
    }
   }
  }
 },
 "nbformat": 4,
 "nbformat_minor": 2
}